{
 "cells": [
  {
   "cell_type": "markdown",
   "metadata": {
    "id": "RxhqTKll_ATt"
   },
   "source": [
    "Course objectives:\n",
    "\n",
    "- Understand what the concept of time complexity represents.\n",
    "- Identify the time complexity of a simple code\n",
    "- Know how to order time complexity examples\n",
    "\n"
   ]
  },
  {
   "cell_type": "markdown",
   "metadata": {
    "id": "3IC5U92tKrxp"
   },
   "source": [
    "# Time Complexity"
   ]
  },
  {
   "cell_type": "markdown",
   "metadata": {
    "id": "LSs67QxVlspK"
   },
   "source": [
    "As you could see python is very fast to perform calculations, much faster than human, so fast that it seems that calculations are instantaneous. \n",
    "\n",
    "But this is not true, the scale of the computer's calculation time is only much smaller than the human one.\n"
   ]
  },
  {
   "cell_type": "code",
   "execution_count": 1,
   "metadata": {
    "colab": {
     "base_uri": "https://localhost:8080/"
    },
    "executionInfo": {
     "elapsed": 11,
     "status": "ok",
     "timestamp": 1668502162804,
     "user": {
      "displayName": "Camille D",
      "userId": "06661350414667447422"
     },
     "user_tz": -60
    },
    "id": "xoLjj48qmIQG",
    "outputId": "df931ea5-8336-43c1-e2fe-591610d9d02f"
   },
   "outputs": [
    {
     "name": "stdout",
     "output_type": "stream",
     "text": [
      "0  nano seconds\n"
     ]
    }
   ],
   "source": [
    "import time\n",
    "\n",
    "start_time = time.time_ns()\n",
    "\n",
    "c = 1 + 2\n",
    "\n",
    "end_time = time.time_ns()\n",
    "\n",
    "print(end_time - start_time, ' nano seconds')"
   ]
  },
  {
   "cell_type": "markdown",
   "metadata": {
    "id": "QbBgHmaUn049"
   },
   "source": [
    "*A nanosecond is one billionth of a second (10^-9 seconds)*"
   ]
  },
  {
   "cell_type": "markdown",
   "metadata": {
    "id": "GXAI4Betn-7O"
   },
   "source": [
    "Now let's see how long our program takes to do the previous operation a hundred million times:"
   ]
  },
  {
   "cell_type": "code",
   "execution_count": 5,
   "metadata": {
    "colab": {
     "base_uri": "https://localhost:8080/"
    },
    "executionInfo": {
     "elapsed": 6524,
     "status": "ok",
     "timestamp": 1668502205834,
     "user": {
      "displayName": "Camille D",
      "userId": "06661350414667447422"
     },
     "user_tz": -60
    },
    "id": "WZkvnM5qogTT",
    "outputId": "ea310ee9-76aa-4d36-eae5-407c20313dfc"
   },
   "outputs": [
    {
     "name": "stdout",
     "output_type": "stream",
     "text": [
      "9.555405378341675  seconds\n"
     ]
    }
   ],
   "source": [
    "import time\n",
    "\n",
    "start_time = time.time()\n",
    "\n",
    "for i in range(10**8):\n",
    "  c = 1 + 2\n",
    "\n",
    "end_time = time.time()\n",
    "\n",
    "print(end_time - start_time, ' seconds')"
   ]
  },
  {
   "cell_type": "code",
   "execution_count": null,
   "metadata": {},
   "outputs": [],
   "source": []
  },
  {
   "cell_type": "markdown",
   "metadata": {
    "id": "lYD0bU4kTqna"
   },
   "source": [
    "So we see that the more operations we do, the longer our program will take to run.\n",
    "\n",
    "Knowing the computation time of a program allows to evaluate its feasibility (will my code, with my data, run in a reasonable time) and allows to compare several different implementations to solve the same problem. \n",
    "\n",
    "The notion of time complexity allows to easily estimate the amount of computation and thus the time needed to execute a program. This without having to execute the code beforehand.\n",
    "\n",
    "Understanding this will allow us to write more optimized code, with as few operations as possible, and therefore to have the fastest possible execution time."
   ]
  },
  {
   "cell_type": "markdown",
   "metadata": {
    "id": "QQSv7OxCqMq7"
   },
   "source": [
    "## The best, average and worst case scenario"
   ]
  },
  {
   "cell_type": "markdown",
   "metadata": {
    "id": "YuPvumRTp9LQ"
   },
   "source": [
    "Let's take the example of an algorithm that searches in a linear way the presence or not of our number in a list."
   ]
  },
  {
   "cell_type": "code",
   "execution_count": 6,
   "metadata": {
    "executionInfo": {
     "elapsed": 296,
     "status": "ok",
     "timestamp": 1673717319278,
     "user": {
      "displayName": "Camille D",
      "userId": "06661350414667447422"
     },
     "user_tz": -60
    },
    "id": "qj2cvo_fqovy"
   },
   "outputs": [],
   "source": [
    "def find(numbers: list, elem: int) -> bool:\n",
    "  for num in numbers:\n",
    "    if num == elem:\n",
    "      return True\n",
    "  return False"
   ]
  },
  {
   "cell_type": "code",
   "execution_count": 7,
   "metadata": {
    "executionInfo": {
     "elapsed": 5,
     "status": "ok",
     "timestamp": 1673717006428,
     "user": {
      "displayName": "Camille D",
      "userId": "06661350414667447422"
     },
     "user_tz": -60
    },
    "id": "aHfYQNzGoid3"
   },
   "outputs": [],
   "source": [
    "l = [1, 5, 3, 9, 2, 4, 6, 7, 8]"
   ]
  },
  {
   "cell_type": "markdown",
   "metadata": {
    "id": "lAKHRMG0q4H4"
   },
   "source": [
    "* **The best case scenario**:\n",
    "If we ever look for the number `1` with `find(l, 1)`, our algorithm will only have `3 operations to do`, The first iteration + the if condition + the return. \n",
    "* **The medium scenario**: If we ever search for the number `2` with `find(l, 2)`, our algorithm will have `11 operations to do`, 5 iterations + 5 times the if condition + the return.\n",
    "* **The worst case scenario**: If we ever look for the number `12` with `find(l, 12)`, our algorithm will have `18 operations to do`, 9 iterations + 9 times the if condition + the return."
   ]
  },
  {
   "cell_type": "markdown",
   "metadata": {
    "id": "1c20nUCFrZ82"
   },
   "source": [
    "## The Big O notation"
   ]
  },
  {
   "cell_type": "markdown",
   "metadata": {
    "id": "ZzEhmsRbrc9-"
   },
   "source": [
    "We can now generalize the logic we used earlier. \n",
    "\n",
    "Consider that we have a list of size n, infinite. \n",
    "Then our `find` algorithm will in its worst case scenario need to traverse the whole list of size n. \n",
    "\n",
    "To express this we can use the `Big O` notation which describes the complexity of an algorithm in its worst case execution. \n",
    "\n",
    "For our `find` algorithm this will be of the order of `O(n)`. \n",
    "\n",
    "*To make a parallel with mathematics, we can consider that Big O corresponds to the main growth factor in our limit of the number of operations that our algorithm performs, when n tends to infinity. Indeed we have: n operations for the iterations + n operations of comparisons + 1 return = 2n + 1 operations. Now the main factor in lim(2n +1) is n, hence O(n).*\n"
   ]
  },
  {
   "cell_type": "markdown",
   "metadata": {
    "id": "euMs53GksMMk"
   },
   "source": [
    "## The different time complexities\n"
   ]
  },
  {
   "cell_type": "markdown",
   "metadata": {
    "id": "4U1ipEey-5JE"
   },
   "source": [
    "[Graphe des différentes complexités](https://www.google.com/url?sa=i&url=https%3A%2F%2Fmedium.com%2Fswlh%2Fbasics-of-big-o-notation-7d5d905d058d&psig=AOvVaw29uIjepIA-zj5MOQxo3jj7&ust=1641552106847000&source=images&cd=vfe&ved=0CAsQjRxqFwoTCOC9taf4nPUCFQAAAAAdAAAAABAD)"
   ]
  },
  {
   "cell_type": "markdown",
   "metadata": {
    "id": "F3KlxrhGu0vg"
   },
   "source": [
    "Let's see what the different time complexities are and how we can recognize them."
   ]
  },
  {
   "cell_type": "markdown",
   "metadata": {
    "id": "rlm_TTR9u7yR"
   },
   "source": [
    "### O(1)"
   ]
  },
  {
   "cell_type": "markdown",
   "metadata": {
    "id": "tx1ieH73v4-0"
   },
   "source": [
    "An algorithm is said to have **constant complexity** when it does not depend on the input data n. \n",
    "\n",
    "For example:"
   ]
  },
  {
   "cell_type": "code",
   "execution_count": null,
   "metadata": {
    "id": "0YR7q4E6v76b"
   },
   "outputs": [],
   "source": [
    "if a > b:\n",
    "    print(True)\n",
    "else:\n",
    "    print(False)"
   ]
  },
  {
   "cell_type": "markdown",
   "metadata": {
    "id": "GWUYpJkxwAcd"
   },
   "source": [
    "Or else:"
   ]
  },
  {
   "cell_type": "code",
   "execution_count": null,
   "metadata": {
    "id": "XrDzLx2fwBp0"
   },
   "outputs": [],
   "source": [
    "def get_first(some_list):\n",
    "  return some_list[0]"
   ]
  },
  {
   "cell_type": "markdown",
   "metadata": {
    "id": "c68mu2LNwbp_"
   },
   "source": [
    "An O(1) algorithm is excellent since we do not have to worry about the size of the input data."
   ]
  },
  {
   "cell_type": "markdown",
   "metadata": {
    "id": "cYidaWsLwwIe"
   },
   "source": [
    "### O(log(n))"
   ]
  },
  {
   "cell_type": "markdown",
   "metadata": {
    "id": "JuPu6bq2w8XO"
   },
   "source": [
    "An algorithm is said to have **logarithmic complexity** when it reduces the number of operations at each step (it does not need to look at all the input data values), for example:"
   ]
  },
  {
   "cell_type": "code",
   "execution_count": null,
   "metadata": {
    "executionInfo": {
     "elapsed": 4,
     "status": "ok",
     "timestamp": 1673717666226,
     "user": {
      "displayName": "Camille D",
      "userId": "06661350414667447422"
     },
     "user_tz": -60
    },
    "id": "g6cSpzKAybBS"
   },
   "outputs": [],
   "source": [
    "x = 100\n",
    "while x > 1:   \n",
    "   x = x / 2\n",
    "   #print(x)"
   ]
  },
  {
   "cell_type": "markdown",
   "metadata": {
    "id": "SrJxlWIhFK4P"
   },
   "source": [
    "An O(log(n)) algorithm is also considered excellent. \n",
    "\n",
    "It is important to know that some problems can never be reduced to such a low complexity. In this case finding a solution with the lowest possible complexity is considered very satisfactory."
   ]
  },
  {
   "cell_type": "markdown",
   "metadata": {
    "id": "1SFE5z5uFQ3k"
   },
   "source": [
    "### O(n)"
   ]
  },
  {
   "cell_type": "markdown",
   "metadata": {
    "id": "FErn7kU3yOUU"
   },
   "source": [
    "An algorithm is said to have **linear complexity** when its execution time increases at most linearly with the size of the input data. This is the best possible time complexity when the algorithm needs to examine all values of the input data. For example:"
   ]
  },
  {
   "cell_type": "code",
   "execution_count": null,
   "metadata": {
    "id": "TOxJe0xp0Z8h"
   },
   "outputs": [],
   "source": [
    "for value in data:\n",
    "    print(value)"
   ]
  },
  {
   "cell_type": "markdown",
   "metadata": {
    "id": "7PZ47j-p0oFy"
   },
   "source": [
    "An algorithm in O(n) is considered good."
   ]
  },
  {
   "cell_type": "markdown",
   "metadata": {
    "id": "ySpALvF209SW"
   },
   "source": [
    "### O(n*log(n))"
   ]
  },
  {
   "cell_type": "markdown",
   "metadata": {
    "id": "_Wcrou981FPn"
   },
   "source": [
    "An algorithm is said to have quasi-linear complexity when each operation in the input data has logarithmic time complexity. This is commonly observed in sorting algorithms (e.g., mergesort, timesort, heapsort).    \n",
    "For example:"
   ]
  },
  {
   "cell_type": "code",
   "execution_count": null,
   "metadata": {
    "id": "zCJsWxR-1k7n"
   },
   "outputs": [],
   "source": [
    "for i in range(n):\n",
    "  j = 100\n",
    "  while j < n:\n",
    "    j =  j * 2"
   ]
  },
  {
   "cell_type": "markdown",
   "metadata": {
    "id": "uGzPqfvM2xy3"
   },
   "source": [
    "An algorithm in O(n\\*log(n)) is considered acceptable. One will consider it as a good thing if one manages to reduce a problem with a complexity greater than O(n\\*log(n)) to O(n*log(n))."
   ]
  },
  {
   "cell_type": "markdown",
   "metadata": {
    "id": "ep_PflUJ3vEq"
   },
   "source": [
    "### O(n**2)\n",
    "\n"
   ]
  },
  {
   "cell_type": "markdown",
   "metadata": {
    "id": "zn2WPhCS3zt5"
   },
   "source": [
    "An algorithm is said to have **quadratic complexity** when it must perform an operation in linear time for each value of the input data, for example:"
   ]
  },
  {
   "cell_type": "code",
   "execution_count": null,
   "metadata": {
    "id": "4BnI8Mac4TFl"
   },
   "outputs": [],
   "source": [
    "for x in data:\n",
    "    for y in data:\n",
    "        print(x, y)"
   ]
  },
  {
   "cell_type": "markdown",
   "metadata": {
    "id": "6b3V6Wtv4ZbW"
   },
   "source": [
    "An O(n**2) algorithm is considered bad, although sometimes we don't have more optimal solutions."
   ]
  },
  {
   "cell_type": "markdown",
   "metadata": {
    "id": "MartqEod6KLl"
   },
   "source": [
    "### O(n\\*\\*3), O(2\\*\\*n), O(n!)"
   ]
  },
  {
   "cell_type": "markdown",
   "metadata": {
    "id": "GcmAjLI_5pZ3"
   },
   "source": [
    "Cubic **complexities** O(n\\*\\*3), exponential **complexities** O(2\\*\\*n) as well as factorial **complexities** O(n!) are very bad and to be avoided because they grow at a catastrophic rate."
   ]
  },
  {
   "cell_type": "markdown",
   "metadata": {
    "id": "FSwAcQVn3kyc"
   },
   "source": [
    "## The complexities of the built in functions\n",
    "\n",
    "All the built-in functions you use in python also have a complexity.\n",
    "https://www.bigocheatsheet.com\n",
    "\n",
    "\n"
   ]
  },
  {
   "cell_type": "markdown",
   "metadata": {
    "id": "4GlmcXvctcxW"
   },
   "source": [
    "## Questions"
   ]
  },
  {
   "cell_type": "markdown",
   "metadata": {
    "id": "kz9FYa9GoGxY"
   },
   "source": [
    "What is the Big O of the following codes?"
   ]
  },
  {
   "cell_type": "code",
   "execution_count": 9,
   "metadata": {
    "colab": {
     "base_uri": "https://localhost:8080/"
    },
    "executionInfo": {
     "elapsed": 320,
     "status": "ok",
     "timestamp": 1673717918276,
     "user": {
      "displayName": "Camille D",
      "userId": "06661350414667447422"
     },
     "user_tz": -60
    },
    "id": "Bfm9fnU8oGL9",
    "outputId": "3b33543e-e130-42e9-e51b-126e50746be9"
   },
   "outputs": [
    {
     "data": {
      "text/plain": [
       "True"
      ]
     },
     "execution_count": 9,
     "metadata": {},
     "output_type": "execute_result"
    }
   ],
   "source": [
    "def odd_check(num):\n",
    "    is_odd = False\n",
    "    if num % 2 == 1:\n",
    "        is_odd = True\n",
    "    return is_odd\n",
    "odd_check(3)"
   ]
  },
  {
   "cell_type": "code",
   "execution_count": 10,
   "metadata": {
    "colab": {
     "base_uri": "https://localhost:8080/"
    },
    "executionInfo": {
     "elapsed": 6,
     "status": "ok",
     "timestamp": 1673717919817,
     "user": {
      "displayName": "Camille D",
      "userId": "06661350414667447422"
     },
     "user_tz": -60
    },
    "id": "0Y7fiYNBodSp",
    "outputId": "e3156eb3-c9b8-40f1-9112-6b72c6b484ca"
   },
   "outputs": [
    {
     "name": "stdout",
     "output_type": "stream",
     "text": [
      "1\n",
      "2\n",
      "3\n",
      "4\n",
      "1\n",
      "2\n",
      "3\n",
      "4\n"
     ]
    }
   ],
   "source": [
    "def linear_algo(items):\n",
    "    for item in items:\n",
    "        print(item)\n",
    "\n",
    "    for item in items:\n",
    "        print(item)\n",
    "\n",
    "linear_algo([1,2,3,4])"
   ]
  },
  {
   "cell_type": "code",
   "execution_count": null,
   "metadata": {
    "colab": {
     "base_uri": "https://localhost:8080/"
    },
    "executionInfo": {
     "elapsed": 4,
     "status": "ok",
     "timestamp": 1673717921052,
     "user": {
      "displayName": "Camille D",
      "userId": "06661350414667447422"
     },
     "user_tz": -60
    },
    "id": "VClbWBtdonsR",
    "outputId": "190344a3-e568-45f6-dc5c-72e587eab76a"
   },
   "outputs": [],
   "source": [
    "def power_of_2(a):\n",
    "    x = 0\n",
    "    while a > 1:\n",
    "        a = a//2\n",
    "        x = x+1\n",
    "    return x\n",
    "    \n",
    "power_of_2(64)"
   ]
  },
  {
   "cell_type": "code",
   "execution_count": 23,
   "metadata": {
    "colab": {
     "base_uri": "https://localhost:8080/"
    },
    "executionInfo": {
     "elapsed": 249,
     "status": "ok",
     "timestamp": 1673718855833,
     "user": {
      "displayName": "Camille D",
      "userId": "06661350414667447422"
     },
     "user_tz": -60
    },
    "id": "qp11J42Ro-wG",
    "outputId": "902cd182-c00c-4d19-a167-d63e79ce335c"
   },
   "outputs": [
    {
     "data": {
      "text/plain": [
       "[(4, 4),\n",
       " (4, 5),\n",
       " (4, 6),\n",
       " (4, 8),\n",
       " (5, 4),\n",
       " (5, 5),\n",
       " (5, 6),\n",
       " (5, 8),\n",
       " (6, 4),\n",
       " (6, 5),\n",
       " (6, 6),\n",
       " (6, 8),\n",
       " (8, 4),\n",
       " (8, 5),\n",
       " (8, 6),\n",
       " (8, 8)]"
      ]
     },
     "execution_count": 23,
     "metadata": {},
     "output_type": "execute_result"
    }
   ],
   "source": [
    "def quadratic_algo(items):\n",
    "    pairs = []\n",
    "    for item1 in items:\n",
    "        for item2 in items:\n",
    "            pairs.append((item1,item2))\n",
    "    return pairs\n",
    "\n",
    "            \n",
    "quadratic_algo([4, 5, 6, 8])"
   ]
  },
  {
   "cell_type": "code",
   "execution_count": 12,
   "metadata": {
    "colab": {
     "base_uri": "https://localhost:8080/"
    },
    "executionInfo": {
     "elapsed": 345,
     "status": "ok",
     "timestamp": 1673718112891,
     "user": {
      "displayName": "Camille D",
      "userId": "06661350414667447422"
     },
     "user_tz": -60
    },
    "id": "bXFg7oXS0Bn1",
    "outputId": "574e4f58-91d0-4161-c1aa-2125e21a9fec"
   },
   "outputs": [
    {
     "name": "stdout",
     "output_type": "stream",
     "text": [
      "[0, 1, 4, 9, 16, 25, 36, 49, 64, 81, 100, 121, 144, 169, 196, 225, 256, 289, 324, 361, 400, 441, 484, 529, 576, 625, 676, 729, 784, 841, 900, 961, 1024, 1089, 1156, 1225, 1296, 1369, 1444, 1521, 1600, 1681, 1764, 1849, 1936, 2025, 2116, 2209, 2304, 2401, 2500, 2601, 2704, 2809, 2916, 3025, 3136, 3249, 3364, 3481, 3600, 3721, 3844, 3969, 4096, 4225, 4356, 4489, 4624, 4761, 4900, 5041, 5184, 5329, 5476, 5625, 5776, 5929, 6084, 6241, 6400, 6561, 6724, 6889, 7056, 7225, 7396, 7569, 7744, 7921, 8100, 8281, 8464, 8649, 8836, 9025, 9216, 9409, 9604, 9801]\n"
     ]
    }
   ],
   "source": [
    "def return_squares(n):\n",
    "    nb_operations = 0\n",
    "    square_list = []\n",
    "    for num in range(n):\n",
    "        square_list.append(num * num)\n",
    "        nb_operations += 1\n",
    "\n",
    "    return square_list\n",
    "\n",
    "nums = 100\n",
    "print(return_squares(nums))"
   ]
  },
  {
   "cell_type": "code",
   "execution_count": 11,
   "metadata": {
    "colab": {
     "base_uri": "https://localhost:8080/",
     "height": 448
    },
    "executionInfo": {
     "elapsed": 4619,
     "status": "ok",
     "timestamp": 1673719100724,
     "user": {
      "displayName": "Camille D",
      "userId": "06661350414667447422"
     },
     "user_tz": -60
    },
    "id": "D3b4fDV-l0NQ",
    "outputId": "13d2ed48-6c19-484a-f57e-664e76fa6372"
   },
   "outputs": [
    {
     "ename": "NameError",
     "evalue": "name 'power_of_2' is not defined",
     "output_type": "error",
     "traceback": [
      "\u001b[1;31m---------------------------------------------------------------------------\u001b[0m",
      "\u001b[1;31mNameError\u001b[0m                                 Traceback (most recent call last)",
      "\u001b[1;32m~\\AppData\\Local\\Temp\\ipykernel_12880\\3925605279.py\u001b[0m in \u001b[0;36m<module>\u001b[1;34m\u001b[0m\n\u001b[0;32m     11\u001b[0m     \u001b[1;31m#log times\u001b[0m\u001b[1;33m\u001b[0m\u001b[1;33m\u001b[0m\u001b[0m\n\u001b[0;32m     12\u001b[0m     \u001b[0mstart_time\u001b[0m \u001b[1;33m=\u001b[0m \u001b[0mtime\u001b[0m\u001b[1;33m.\u001b[0m\u001b[0mtime\u001b[0m\u001b[1;33m(\u001b[0m\u001b[1;33m)\u001b[0m\u001b[1;33m\u001b[0m\u001b[1;33m\u001b[0m\u001b[0m\n\u001b[1;32m---> 13\u001b[1;33m     \u001b[0mpower_of_2\u001b[0m\u001b[1;33m(\u001b[0m\u001b[0minput_size\u001b[0m\u001b[1;33m)\u001b[0m\u001b[1;33m\u001b[0m\u001b[1;33m\u001b[0m\u001b[0m\n\u001b[0m\u001b[0;32m     14\u001b[0m     \u001b[0mend_time\u001b[0m \u001b[1;33m=\u001b[0m \u001b[0mtime\u001b[0m\u001b[1;33m.\u001b[0m\u001b[0mtime\u001b[0m\u001b[1;33m(\u001b[0m\u001b[1;33m)\u001b[0m\u001b[1;33m\u001b[0m\u001b[1;33m\u001b[0m\u001b[0m\n\u001b[0;32m     15\u001b[0m     \u001b[0mlog_times\u001b[0m\u001b[1;33m.\u001b[0m\u001b[0mappend\u001b[0m\u001b[1;33m(\u001b[0m\u001b[0mend_time\u001b[0m \u001b[1;33m-\u001b[0m \u001b[0mstart_time\u001b[0m\u001b[1;33m)\u001b[0m\u001b[1;33m\u001b[0m\u001b[1;33m\u001b[0m\u001b[0m\n",
      "\u001b[1;31mNameError\u001b[0m: name 'power_of_2' is not defined"
     ]
    }
   ],
   "source": [
    "import matplotlib.pyplot as plt\n",
    "import time\n",
    "\n",
    "n = [i for i in range(1,1000,10)]\n",
    "\n",
    "log_times = []\n",
    "linear_times = []\n",
    "quadratic_times = []\n",
    "\n",
    "for input_size in n:\n",
    "    #log times\n",
    "    start_time = time.time()\n",
    "    power_of_2(input_size)\n",
    "    end_time = time.time()\n",
    "    log_times.append(end_time - start_time)\n",
    "\n",
    "    #linear times\n",
    "    start_time = time.time()\n",
    "    return_squares(input_size)\n",
    "    end_time = time.time()\n",
    "    linear_times.append(end_time - start_time)\n",
    "\n",
    "    #quadratic times\n",
    "    start_time = time.time()\n",
    "    quadratic_algo([i for i in range(input_size)])\n",
    "    end_time = time.time()\n",
    "    quadratic_times.append(end_time - start_time)\n",
    "\n",
    "plt.figure(figsize=(12, 6), dpi=80)\n",
    "plt.plot(n, log_times, label='logarithmic')\n",
    "plt.plot(n, linear_times, label='linear')\n",
    "plt.plot(n, quadratic_times, label='quadratic')\n",
    "plt.xlabel('input size')\n",
    "plt.ylabel('runtime (ns)')\n",
    "plt.legend()\n",
    "plt.show()"
   ]
  },
  {
   "cell_type": "markdown",
   "metadata": {
    "id": "8tEw7jf9tni1"
   },
   "source": [
    "# Exercises"
   ]
  },
  {
   "cell_type": "markdown",
   "metadata": {
    "id": "phWpfL39pizL"
   },
   "source": [
    "## Exercise 1\n",
    "What is the Big O of this function?"
   ]
  },
  {
   "cell_type": "code",
   "execution_count": 13,
   "metadata": {
    "id": "Zojlgpz8pOis"
   },
   "outputs": [
    {
     "name": "stdout",
     "output_type": "stream",
     "text": [
      "Python is awesome\n",
      "Python is awesome\n",
      "Python is awesome\n",
      "Python is awesome\n",
      "Python is awesome\n",
      "4\n",
      "5\n",
      "6\n",
      "8\n",
      "4\n",
      "5\n",
      "6\n",
      "8\n",
      "Big O\n",
      "Big O\n",
      "Big O\n"
     ]
    }
   ],
   "source": [
    "def complex_algo(items):\n",
    "\n",
    "    for i in range(5):\n",
    "        print(\"Python is awesome\")\n",
    "\n",
    "    for item in items:\n",
    "        print(item)\n",
    "\n",
    "    for item in items:\n",
    "        print(item)\n",
    "\n",
    "    print(\"Big O\")\n",
    "    print(\"Big O\")\n",
    "    print(\"Big O\")\n",
    "\n",
    "complex_algo([4, 5, 6, 8])"
   ]
  },
  {
   "cell_type": "markdown",
   "metadata": {
    "id": "1JHcAM8cpyE0"
   },
   "source": [
    "## Exercise 2\n",
    "What is the Big O of this function?"
   ]
  },
  {
   "cell_type": "code",
   "execution_count": null,
   "metadata": {
    "id": "7nT-BU4vp4nK"
   },
   "outputs": [],
   "source": [
    "def double_elements(my_list):\n",
    "  for element in range(len(my_list)):\n",
    "    my_list[element] *= 2\n",
    "  return my_list\n",
    "\n",
    "double_elements([1,2,3])"
   ]
  },
  {
   "cell_type": "markdown",
   "metadata": {
    "id": "epMkoLwpqMKJ"
   },
   "source": [
    "## Exercise 3 \n",
    "What is the Big O of this function?"
   ]
  },
  {
   "cell_type": "code",
   "execution_count": 19,
   "metadata": {
    "colab": {
     "base_uri": "https://localhost:8080/"
    },
    "id": "J7G1SN6AqQj9",
    "outputId": "aa41355e-2a65-4e34-855e-538734864313"
   },
   "outputs": [],
   "source": [
    "def draw_triangle(size):\n",
    "  for i in range(size, 0, 1):\n",
    "    for m in range(i, 0, -1):\n",
    "      print('*', end= '')\n",
    "    print()\n",
    "  \n",
    "draw_triangle(1)"
   ]
  },
  {
   "cell_type": "code",
   "execution_count": 21,
   "metadata": {},
   "outputs": [
    {
     "name": "stdout",
     "output_type": "stream",
     "text": [
      "ok\n"
     ]
    }
   ],
   "source": [
    "print('ok')\n"
   ]
  },
  {
   "cell_type": "markdown",
   "metadata": {
    "id": "PXjnGNp-q4Nb"
   },
   "source": [
    "## Exercise 4\n",
    "What is the Big O of this function?\n",
    "\n",
    "We will assume that our given list will always be sorted in ascending order."
   ]
  },
  {
   "cell_type": "code",
   "execution_count": 34,
   "metadata": {
    "colab": {
     "base_uri": "https://localhost:8080/"
    },
    "executionInfo": {
     "elapsed": 6,
     "status": "ok",
     "timestamp": 1673719429687,
     "user": {
      "displayName": "Camille D",
      "userId": "06661350414667447422"
     },
     "user_tz": -60
    },
    "id": "_Kabc3a1yQvu",
    "outputId": "a1601c95-8b8d-47e9-8ea4-fba5404d8b79"
   },
   "outputs": [
    {
     "data": {
      "text/plain": [
       "True"
      ]
     },
     "execution_count": 34,
     "metadata": {},
     "output_type": "execute_result"
    }
   ],
   "source": [
    "def binary_search(my_list, number):\n",
    "    first = 0\n",
    "    last = len(my_list) - 1\n",
    "    is_found = False\n",
    "    while first <= last and not is_found:\n",
    "        mid = (first + last) // 2\n",
    "        if my_list[mid] == number:\n",
    "            is_found = True\n",
    "        else:\n",
    "            if number < mid:\n",
    "                last = mid - 1\n",
    "            else:\n",
    "                first = mid + 1\n",
    "    return is_found\n",
    "\n",
    "\n",
    "binary_search([0, 1, 2, 3, 4, 5, 6, 7, 8, 9], 7)"
   ]
  },
  {
   "cell_type": "markdown",
   "metadata": {
    "id": "nVqzMVQYu0OK"
   },
   "source": [
    "## Exercise 5\n",
    "Write a function that takes two different numbers as a string and returns the sum of the two numbers (as an integer). \n",
    "What is the complexity of your function?    \n",
    "Can you optimize your code to reduce this complexity?"
   ]
  },
  {
   "cell_type": "code",
   "execution_count": null,
   "metadata": {
    "id": "ssIdbcKi2Zpm"
   },
   "outputs": [],
   "source": []
  },
  {
   "cell_type": "markdown",
   "metadata": {
    "id": "j2gyRXJItyl3"
   },
   "source": [
    "## Exercise 6\n",
    "Write a function that takes a sentence as input and finds the average length of the words in our sentence    \n",
    "What is the complexity of your function?    \n",
    "Can you optimize your code to reduce this complexity ?  "
   ]
  },
  {
   "cell_type": "code",
   "execution_count": null,
   "metadata": {
    "id": "J8JDQNba2c7b"
   },
   "outputs": [],
   "source": []
  },
  {
   "cell_type": "markdown",
   "metadata": {
    "id": "U5lOZ6xis15V"
   },
   "source": [
    "## Exercise 7\n",
    "Write a function that takes a list of integers as argument and returns a boolean to tell us if our list grows monotonically or not.    \n",
    "What is the complexity of your function?    \n",
    "Can you optimize your code to reduce this complexity?"
   ]
  },
  {
   "cell_type": "code",
   "execution_count": null,
   "metadata": {
    "id": "HIjOwISJ2ggQ"
   },
   "outputs": [],
   "source": []
  },
  {
   "cell_type": "markdown",
   "metadata": {
    "id": "MJFRrAXYvZ1Y"
   },
   "source": [
    "## Exercise 8\n",
    "Write a function that takes two sentences as input and displays to us:\n",
    "* the list of words that are in both sentences \n",
    "* the list of words that are only in the first sentence \n",
    "* the list of words that are only in the second sentence \n",
    "\n",
    "What is the complexity of your function?     \n",
    "\n",
    "Can you optimize your code to reduce this complexity?  "
   ]
  },
  {
   "cell_type": "code",
   "execution_count": null,
   "metadata": {
    "id": "C-rpnZOX2iZI"
   },
   "outputs": [],
   "source": []
  },
  {
   "cell_type": "markdown",
   "metadata": {
    "id": "QyCIBxFksdDj"
   },
   "source": [
    "## Exercise 9\n",
    "Write a function that calculates the factorial of a given number.    \n",
    "What is the complexity of your function?   \n",
    "Can you optimize your code to reduce this complexity?    \n",
    "(Hint: recursive functions can help you).   \n",
    "Bonus: draw a graph comparing the execution time of your factorial function against the one from the `math` module "
   ]
  },
  {
   "cell_type": "code",
   "execution_count": null,
   "metadata": {
    "id": "-VkwviMs2kT9"
   },
   "outputs": [],
   "source": []
  },
  {
   "cell_type": "markdown",
   "metadata": {
    "id": "GkGXSUk3xwe3"
   },
   "source": [
    "## Exercise 10\n",
    "Write a function that takes as input a list of integers and displays all *distinct* pairs of numbers.     \n",
    "What is the complexity of your function?    \n",
    "Can you optimize your code to reduce this complexity?"
   ]
  },
  {
   "cell_type": "code",
   "execution_count": null,
   "metadata": {
    "id": "OM39k2Fn2lVj"
   },
   "outputs": [],
   "source": []
  },
  {
   "cell_type": "markdown",
   "metadata": {
    "id": "7w_MQIaAtzcT"
   },
   "source": [
    "## Exercise 11\n",
    "Write a function that takes a list of integers as an argument and returns our list with all 0's at the end of our list (and the rest of the elements in their original order).   \n",
    "What is the complexity of your function?    \n",
    "Can you optimize your code to reduce this complexity? "
   ]
  },
  {
   "cell_type": "code",
   "execution_count": null,
   "metadata": {
    "id": "tyZha4-72moZ"
   },
   "outputs": [],
   "source": []
  },
  {
   "cell_type": "markdown",
   "metadata": {
    "id": "ecsTzZf8w9su"
   },
   "source": [
    "## Exercise 12\n",
    "Write a function that takes a sentence as input and finds the first unrepeated character and returns the index of that character. If this character does not exist return -1.    \n",
    "What is the complexity of your function?    \n",
    "Can you optimize your code to reduce this complexity? "
   ]
  },
  {
   "cell_type": "code",
   "execution_count": null,
   "metadata": {
    "id": "VoMu9wBr2rLg"
   },
   "outputs": [],
   "source": []
  },
  {
   "cell_type": "markdown",
   "metadata": {
    "id": "ma0ZqTiFs0_l"
   },
   "source": [
    "## Exercise 13\n",
    "Write a function that displays the first n numbers of the [fibbonaci sequence](https://en.wikipedia.org/wiki/Fibonacci_number).    \n",
    "What is the complexity of your function?   \n",
    "Can you optimize your code to reduce this complexity?    \n",
    "(Hint: recursive functions can help you)"
   ]
  },
  {
   "cell_type": "code",
   "execution_count": 23,
   "metadata": {
    "id": "QPCozMlB2p_K"
   },
   "outputs": [],
   "source": [
    "def fab(numbers: list) -> int:\n",
    "    i=1\n",
    "    n\n",
    "    for i in range(n):\n",
    "        n= n + i\n",
    "        return n\n",
    "    "
   ]
  },
  {
   "cell_type": "markdown",
   "metadata": {
    "id": "0CKl2B0o0KCQ"
   },
   "source": [
    "## Exercice 14\n",
    "\n",
    "Write a sort function implementing the [Insert Sort] algorithm(https://en.wikipedia.org/wiki/Insertion_sort).\n",
    "What is its Big O?\n",
    "\n",
    "Write a sort function implementing the [Quick Sort](https://en.wikipedia.org/wiki/Quicksort) algorithm. \n",
    "What is its Big O?\n",
    "\n",
    "Which algorithm between Insertion Sort and Quick Sort has the better Big O? And which algorithm performs better in general?\n",
    "\n",
    "Bonus: draw a graph of the runtime of both your functions for inputs of growing size."
   ]
  },
  {
   "cell_type": "code",
   "execution_count": null,
   "metadata": {
    "id": "RkGF7MkH2s_d"
   },
   "outputs": [],
   "source": []
  }
 ],
 "metadata": {
  "colab": {
   "collapsed_sections": [
    "FSwAcQVn3kyc",
    "phWpfL39pizL",
    "1JHcAM8cpyE0",
    "epMkoLwpqMKJ",
    "PXjnGNp-q4Nb",
    "nVqzMVQYu0OK",
    "j2gyRXJItyl3",
    "U5lOZ6xis15V",
    "MJFRrAXYvZ1Y",
    "QyCIBxFksdDj",
    "GkGXSUk3xwe3",
    "7w_MQIaAtzcT",
    "ecsTzZf8w9su",
    "ma0ZqTiFs0_l",
    "0CKl2B0o0KCQ"
   ],
   "provenance": []
  },
  "kernelspec": {
   "display_name": "Python 3 (ipykernel)",
   "language": "python",
   "name": "python3"
  },
  "language_info": {
   "codemirror_mode": {
    "name": "ipython",
    "version": 3
   },
   "file_extension": ".py",
   "mimetype": "text/x-python",
   "name": "python",
   "nbconvert_exporter": "python",
   "pygments_lexer": "ipython3",
   "version": "3.10.6"
  }
 },
 "nbformat": 4,
 "nbformat_minor": 1
}
