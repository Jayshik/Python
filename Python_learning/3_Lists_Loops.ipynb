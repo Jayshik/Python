{
 "cells": [
  {
   "cell_type": "markdown",
   "metadata": {
    "cell_id": "00000-a53defec-262b-484c-9398-d36f40bac945",
    "deepnote_cell_type": "markdown",
    "id": "aQ5yUlbX7_5f",
    "tags": []
   },
   "source": [
    "# Class 4 - Lists and loops"
   ]
  },
  {
   "cell_type": "markdown",
   "metadata": {
    "cell_id": "00001-331dc49d-e2aa-43d2-a53b-4b753588850c",
    "deepnote_cell_type": "markdown",
    "id": "8UAPMCBt7_5i",
    "tags": []
   },
   "source": [
    "Class objectives:\n",
    "- Know how to recognize and manipulate lists\n",
    "- How to create a `for` and `while` loop\n",
    "- Create simple scripts combining loops and conditions"
   ]
  },
  {
   "cell_type": "markdown",
   "metadata": {
    "cell_id": "00002-c212264f-254a-4399-ba4e-872a0366d563",
    "deepnote_cell_type": "markdown",
    "id": "Y3Sb_9UJ7_5j",
    "tags": []
   },
   "source": [
    "## Lists"
   ]
  },
  {
   "cell_type": "code",
   "execution_count": null,
   "metadata": {
    "cell_id": "00003-8cd8d855-30a2-4acb-9ed1-32a45d124b19",
    "colab": {
     "base_uri": "https://localhost:8080/"
    },
    "deepnote_cell_type": "code",
    "deepnote_to_be_reexecuted": false,
    "execution_millis": 3,
    "execution_start": 1628531197154,
    "id": "m09yH0PK7_5j",
    "outputId": "60543712-9cdd-4233-f0d2-8911b1b5878c",
    "source_hash": "c10fa706",
    "tags": []
   },
   "outputs": [
    {
     "data": {
      "text/plain": [
       "[1, 2, 3]"
      ]
     },
     "execution_count": 7,
     "metadata": {},
     "output_type": "execute_result"
    }
   ],
   "source": [
    "my_list = [1, 2, 3] # a list can be seen as a sequence of elements\n",
    "my_list"
   ]
  },
  {
   "cell_type": "code",
   "execution_count": 9,
   "metadata": {
    "cell_id": "00004-336ce596-dbdf-47f0-81c8-d068a0513425",
    "colab": {
     "base_uri": "https://localhost:8080/"
    },
    "deepnote_cell_type": "code",
    "deepnote_to_be_reexecuted": false,
    "execution_millis": 7,
    "execution_start": 1628531484941,
    "id": "wNQ04Ori7_5l",
    "outputId": "bdc4cc7c-8bdf-4715-87a2-0579dcd64495",
    "source_hash": "8a449707",
    "tags": []
   },
   "outputs": [
    {
     "data": {
      "text/plain": [
       "['hello', 2, True, 'hey', 'yeah yeah']"
      ]
     },
     "execution_count": 9,
     "metadata": {},
     "output_type": "execute_result"
    }
   ],
   "source": [
    "new_list = ['hello', 2, True, 'hey', 'yeah yeah'] # the elements can be of several different types\n",
    "new_list"
   ]
  },
  {
   "cell_type": "code",
   "execution_count": null,
   "metadata": {
    "cell_id": "00005-1ecffef0-e611-4cbd-8865-5fe8790ef8bc",
    "deepnote_cell_type": "code",
    "deepnote_to_be_reexecuted": false,
    "execution_millis": 2,
    "execution_start": 1628531485394,
    "id": "C9iyKOru7_5m",
    "source_hash": "abf705ba",
    "tags": []
   },
   "outputs": [],
   "source": [
    "l = [] # definition of an empty list"
   ]
  },
  {
   "cell_type": "code",
   "execution_count": null,
   "metadata": {
    "cell_id": "00006-18b6e1eb-ee5c-44e2-abad-7ed415963d85",
    "colab": {
     "base_uri": "https://localhost:8080/"
    },
    "deepnote_cell_type": "code",
    "deepnote_to_be_reexecuted": false,
    "execution_millis": 7,
    "execution_start": 1628531485797,
    "id": "v-20XagM7_5m",
    "outputId": "878bdae4-1859-4154-f0f3-b15b53baec12",
    "source_hash": "f3157a7f",
    "tags": []
   },
   "outputs": [
    {
     "data": {
      "text/plain": [
       "list"
      ]
     },
     "execution_count": 10,
     "metadata": {},
     "output_type": "execute_result"
    }
   ],
   "source": [
    "type(l) # type list"
   ]
  },
  {
   "cell_type": "code",
   "execution_count": null,
   "metadata": {
    "cell_id": "00007-9801e35a-880f-4434-b8fb-01282f8f41c9",
    "colab": {
     "base_uri": "https://localhost:8080/"
    },
    "deepnote_cell_type": "code",
    "id": "u0mY-4Zl7_5n",
    "outputId": "f715781c-b65e-460b-be54-8779f8944860",
    "tags": []
   },
   "outputs": [
    {
     "data": {
      "text/plain": [
       "5"
      ]
     },
     "execution_count": 11,
     "metadata": {},
     "output_type": "execute_result"
    }
   ],
   "source": [
    "len(new_list) # access the size of the list"
   ]
  },
  {
   "cell_type": "code",
   "execution_count": null,
   "metadata": {
    "cell_id": "00006-c2fb7680-65b7-43c1-8e9a-869445277b91",
    "colab": {
     "base_uri": "https://localhost:8080/",
     "height": 38
    },
    "deepnote_cell_type": "code",
    "deepnote_to_be_reexecuted": false,
    "execution_millis": 9,
    "execution_start": 1628531486248,
    "id": "nNq_KGmz7_5n",
    "outputId": "d5853b0a-4b29-4311-836f-0b6dec6d700d",
    "source_hash": "3c98900d",
    "tags": []
   },
   "outputs": [
    {
     "data": {
      "application/vnd.google.colaboratory.intrinsic+json": {
       "type": "string"
      },
      "text/plain": [
       "'hello'"
      ]
     },
     "execution_count": 12,
     "metadata": {},
     "output_type": "execute_result"
    }
   ],
   "source": [
    "new_list[0] # lists are indexed from zero (like strings)"
   ]
  },
  {
   "cell_type": "code",
   "execution_count": null,
   "metadata": {
    "cell_id": "00008-a629d5df-d4c7-4585-89ac-943a21741c29",
    "colab": {
     "base_uri": "https://localhost:8080/"
    },
    "deepnote_cell_type": "code",
    "deepnote_to_be_reexecuted": false,
    "execution_millis": 7,
    "execution_start": 1628531486917,
    "id": "Hqf-vkxV7_5o",
    "outputId": "bc27b327-8361-4ad5-a8f0-2d096908626d",
    "source_hash": "3a0edb0",
    "tags": []
   },
   "outputs": [
    {
     "data": {
      "text/plain": [
       "['hello', 2, True]"
      ]
     },
     "execution_count": 13,
     "metadata": {},
     "output_type": "execute_result"
    }
   ],
   "source": [
    "new_list[0:3] #slicing with 2 limits"
   ]
  },
  {
   "cell_type": "code",
   "execution_count": null,
   "metadata": {
    "cell_id": "00009-3577a9d7-9efd-4971-a377-3aead4fc4963",
    "colab": {
     "base_uri": "https://localhost:8080/"
    },
    "deepnote_cell_type": "code",
    "deepnote_to_be_reexecuted": false,
    "execution_millis": 8,
    "execution_start": 1628531487351,
    "id": "JWvWK1wt7_5o",
    "outputId": "60d97ba2-c04d-4a8d-d755-e2dae0b3960a",
    "source_hash": "83b7076c",
    "tags": []
   },
   "outputs": [
    {
     "data": {
      "text/plain": [
       "['hello', True, 'yeah yeah']"
      ]
     },
     "execution_count": 14,
     "metadata": {},
     "output_type": "execute_result"
    }
   ],
   "source": [
    "new_list[0::2] #slicing of the whole list with a step of 2"
   ]
  },
  {
   "cell_type": "code",
   "execution_count": null,
   "metadata": {
    "cell_id": "00010-be69c394-d243-49d9-8147-593e9dea1ae7",
    "colab": {
     "base_uri": "https://localhost:8080/",
     "height": 185
    },
    "deepnote_cell_type": "code",
    "deepnote_to_be_reexecuted": false,
    "execution_millis": 7,
    "execution_start": 1628531526490,
    "id": "caG9g8ch7_5p",
    "outputId": "478850d0-5d2f-4ef3-da98-f0a76a268b41",
    "source_hash": "eb9666e1",
    "tags": []
   },
   "outputs": [
    {
     "ename": "IndexError",
     "evalue": "ignored",
     "output_type": "error",
     "traceback": [
      "\u001b[0;31m---------------------------------------------------------------------------\u001b[0m",
      "\u001b[0;31mIndexError\u001b[0m                                Traceback (most recent call last)",
      "\u001b[0;32m<ipython-input-15-e3ab3f54c134>\u001b[0m in \u001b[0;36m<module>\u001b[0;34m()\u001b[0m\n\u001b[0;32m----> 1\u001b[0;31m \u001b[0mnew_list\u001b[0m\u001b[0;34m[\u001b[0m\u001b[0;36m10\u001b[0m\u001b[0;34m]\u001b[0m \u001b[0;31m#error because we try to access an index that does not exist\u001b[0m\u001b[0;34m\u001b[0m\u001b[0;34m\u001b[0m\u001b[0m\n\u001b[0m",
      "\u001b[0;31mIndexError\u001b[0m: list index out of range"
     ]
    }
   ],
   "source": [
    "new_list[10] #error because we try to access an index that does not exist"
   ]
  },
  {
   "cell_type": "code",
   "execution_count": 7,
   "metadata": {
    "cell_id": "00011-7afcaa9b-39bf-48a1-b969-078dbd5601c5",
    "colab": {
     "base_uri": "https://localhost:8080/"
    },
    "deepnote_cell_type": "code",
    "deepnote_to_be_reexecuted": false,
    "execution_millis": 0,
    "execution_start": 1628531549874,
    "id": "h3qK8ND77_5p",
    "outputId": "73c0a7cd-d1a2-4075-ee05-df0b01748426",
    "source_hash": "cd202ebf",
    "tags": []
   },
   "outputs": [
    {
     "data": {
      "text/plain": [
       "[1, 2, 3, 4, 5, 6]"
      ]
     },
     "execution_count": 7,
     "metadata": {},
     "output_type": "execute_result"
    }
   ],
   "source": [
    "[1,2,3] + [4,5,6] # concatenation of lists"
   ]
  },
  {
   "cell_type": "code",
   "execution_count": 10,
   "metadata": {
    "cell_id": "00012-2c9abb35-14bc-44ab-9265-dad0e8778235",
    "colab": {
     "base_uri": "https://localhost:8080/"
    },
    "deepnote_cell_type": "code",
    "deepnote_to_be_reexecuted": false,
    "execution_millis": 3,
    "execution_start": 1628531613126,
    "id": "F1uZdYhf7_5q",
    "outputId": "53be4f07-389b-460a-d653-a888a76674b3",
    "source_hash": "cb0389fe",
    "tags": []
   },
   "outputs": [
    {
     "data": {
      "text/plain": [
       "['hello', 2, True, 'hey', 'yeah yeah', 29, 'salut']"
      ]
     },
     "execution_count": 10,
     "metadata": {},
     "output_type": "execute_result"
    }
   ],
   "source": [
    "new_list + [29, 'salut']"
   ]
  },
  {
   "cell_type": "code",
   "execution_count": 11,
   "metadata": {
    "cell_id": "00013-3fd215e7-0a31-4a1d-9e92-683344cd0031",
    "colab": {
     "base_uri": "https://localhost:8080/"
    },
    "deepnote_cell_type": "code",
    "deepnote_to_be_reexecuted": false,
    "execution_millis": 5,
    "execution_start": 1628531621648,
    "id": "NZZySKUJ7_5q",
    "outputId": "546efebf-8b13-4891-df23-02e8b69425e3",
    "source_hash": "912a608f",
    "tags": []
   },
   "outputs": [
    {
     "data": {
      "text/plain": [
       "['hello', 2, True, 'hey', 'yeah yeah']"
      ]
     },
     "execution_count": 11,
     "metadata": {},
     "output_type": "execute_result"
    }
   ],
   "source": [
    "new_list"
   ]
  },
  {
   "cell_type": "code",
   "execution_count": null,
   "metadata": {
    "cell_id": "00014-6f0a3fd2-1f04-45ba-b640-5c045c501ca5",
    "colab": {
     "base_uri": "https://localhost:8080/"
    },
    "deepnote_cell_type": "code",
    "deepnote_to_be_reexecuted": false,
    "execution_millis": 5,
    "execution_start": 1628531698884,
    "id": "xwPpIHl47_5r",
    "outputId": "0ce1375d-adc7-4266-ed25-80c8787b0542",
    "source_hash": "706d4464",
    "tags": []
   },
   "outputs": [
    {
     "data": {
      "text/plain": [
       "['hello', 2, True, 'hey', 'yeah yeah', 29, 'salut']"
      ]
     },
     "execution_count": 19,
     "metadata": {},
     "output_type": "execute_result"
    }
   ],
   "source": [
    "new_list = new_list + [29, 'salut'] # reassignment of a value to a variable already defined\n",
    "new_list"
   ]
  },
  {
   "cell_type": "code",
   "execution_count": null,
   "metadata": {
    "cell_id": "00015-7b5aa60a-e94b-49ff-b25e-22d7dc1a7abf",
    "deepnote_cell_type": "code",
    "deepnote_to_be_reexecuted": false,
    "execution_millis": 0,
    "execution_start": 1628531743522,
    "id": "KxP9OwAN7_5r",
    "source_hash": "1771acac",
    "tags": []
   },
   "outputs": [],
   "source": [
    "new_list.append(10) # add an element at the end of the list"
   ]
  },
  {
   "cell_type": "code",
   "execution_count": null,
   "metadata": {
    "cell_id": "00016-2a8a33c1-afd7-4a5d-abf2-e77adfc93f72",
    "colab": {
     "base_uri": "https://localhost:8080/"
    },
    "deepnote_cell_type": "code",
    "deepnote_to_be_reexecuted": false,
    "execution_millis": 5,
    "execution_start": 1628531746220,
    "id": "yvmPpcLh7_5r",
    "outputId": "e30b6807-1ffc-46c4-8c1b-5816d9ce6991",
    "source_hash": "912a608f",
    "tags": []
   },
   "outputs": [
    {
     "data": {
      "text/plain": [
       "['hello', 2, True, 'hey', 'yeah yeah', 29, 'salut', 10, 10, 10]"
      ]
     },
     "execution_count": 26,
     "metadata": {},
     "output_type": "execute_result"
    }
   ],
   "source": [
    "new_list"
   ]
  },
  {
   "cell_type": "markdown",
   "metadata": {
    "id": "4EM5w_4H_ioz"
   },
   "source": [
    "Documentation for the index function: https://docs.python.org/fr/3/tutorial/datastructures.html?highlight=index"
   ]
  },
  {
   "cell_type": "code",
   "execution_count": null,
   "metadata": {
    "cell_id": "00017-4cf235cc-3157-4246-864f-418556de5097",
    "colab": {
     "base_uri": "https://localhost:8080/"
    },
    "deepnote_cell_type": "code",
    "deepnote_to_be_reexecuted": false,
    "execution_millis": 7,
    "execution_start": 1628532906702,
    "id": "auEivkbu7_5s",
    "outputId": "9cce98f7-818c-4f83-ff3b-549f1bc9618d",
    "source_hash": "abd48ca6",
    "tags": []
   },
   "outputs": [
    {
     "data": {
      "text/plain": [
       "1"
      ]
     },
     "execution_count": 28,
     "metadata": {},
     "output_type": "execute_result"
    }
   ],
   "source": [
    "new_list.index(2) # the index function allows to find the position of an element in a list "
   ]
  },
  {
   "cell_type": "code",
   "execution_count": null,
   "metadata": {
    "colab": {
     "base_uri": "https://localhost:8080/",
     "height": 168
    },
    "id": "FDQe7Q4zXrIe",
    "outputId": "e035936e-87ca-45e8-951c-4e8563cf2e3f"
   },
   "outputs": [
    {
     "ename": "TypeError",
     "evalue": "ignored",
     "output_type": "error",
     "traceback": [
      "\u001b[0;31m---------------------------------------------------------------------------\u001b[0m",
      "\u001b[0;31mTypeError\u001b[0m                                 Traceback (most recent call last)",
      "\u001b[0;32m<ipython-input-29-7a00c3565803>\u001b[0m in \u001b[0;36m<module>\u001b[0;34m()\u001b[0m\n\u001b[0;32m----> 1\u001b[0;31m \u001b[0mnew_list\u001b[0m\u001b[0;34m(\u001b[0m\u001b[0;36m2\u001b[0m\u001b[0;34m)\u001b[0m\u001b[0;34m\u001b[0m\u001b[0;34m\u001b[0m\u001b[0m\n\u001b[0m",
      "\u001b[0;31mTypeError\u001b[0m: 'list' object is not callable"
     ]
    }
   ],
   "source": [
    "new_list(2)"
   ]
  },
  {
   "cell_type": "markdown",
   "metadata": {
    "cell_id": "00003-6866e761-f93e-4eb5-a4e4-2a43c21f86af",
    "deepnote_cell_type": "markdown",
    "id": "OrV9CjO47_5s",
    "tags": []
   },
   "source": [
    "### Questions"
   ]
  },
  {
   "cell_type": "code",
   "execution_count": 2,
   "metadata": {
    "cell_id": "00018-5388577f-87f0-4ccd-9764-b1c550249c02",
    "deepnote_cell_type": "code",
    "deepnote_to_be_reexecuted": false,
    "execution_millis": 1,
    "execution_start": 1628531766801,
    "id": "5Ey8fRZA7_5s",
    "source_hash": "37700966",
    "tags": []
   },
   "outputs": [],
   "source": [
    "city_list = ['Paris', 'London', 'Marseille', 'Vienna', 'Berlin']"
   ]
  },
  {
   "cell_type": "code",
   "execution_count": null,
   "metadata": {
    "cell_id": "00019-56843f1e-4d88-4997-819a-7c61cf03a6f2",
    "colab": {
     "base_uri": "https://localhost:8080/",
     "height": 38
    },
    "deepnote_cell_type": "code",
    "deepnote_to_be_reexecuted": false,
    "execution_millis": 11,
    "execution_start": 1628531772579,
    "id": "QLjjvFTB7_5t",
    "outputId": "d14bda56-faad-4ed9-a075-8c9f855d3fee",
    "source_hash": "6b4275b1",
    "tags": []
   },
   "outputs": [
    {
     "data": {
      "application/vnd.google.colaboratory.intrinsic+json": {
       "type": "string"
      },
      "text/plain": [
       "'Vienna'"
      ]
     },
     "execution_count": 31,
     "metadata": {},
     "output_type": "execute_result"
    }
   ],
   "source": [
    "city_list[3]"
   ]
  },
  {
   "cell_type": "code",
   "execution_count": null,
   "metadata": {
    "cell_id": "00020-c718851b-2b65-4e1a-89af-23c274c5ba9c",
    "colab": {
     "base_uri": "https://localhost:8080/"
    },
    "deepnote_cell_type": "code",
    "deepnote_to_be_reexecuted": false,
    "execution_millis": 8,
    "execution_start": 1628531779128,
    "id": "GQwi9dP57_5t",
    "outputId": "11edfe1f-1652-4ba8-b861-310edd7197c5",
    "source_hash": "d7215f96",
    "tags": []
   },
   "outputs": [
    {
     "data": {
      "text/plain": [
       "['London']"
      ]
     },
     "execution_count": 32,
     "metadata": {},
     "output_type": "execute_result"
    }
   ],
   "source": [
    "city_list[1:2]"
   ]
  },
  {
   "cell_type": "code",
   "execution_count": 5,
   "metadata": {
    "cell_id": "00021-f795e9fe-416a-4d81-8f68-ba26417b7c18",
    "colab": {
     "base_uri": "https://localhost:8080/"
    },
    "deepnote_cell_type": "code",
    "deepnote_to_be_reexecuted": false,
    "execution_millis": 12,
    "execution_start": 1628531796593,
    "id": "F1IuHMxs7_5t",
    "outputId": "e0120d08-d74f-409f-deee-c2bbd1ea2a87",
    "source_hash": "f1f9d71a",
    "tags": []
   },
   "outputs": [
    {
     "data": {
      "text/plain": [
       "['Paris', 'London', 'Marseille', 'Vienna', 'Berlin', 'Roma', 'Barcelona']"
      ]
     },
     "execution_count": 5,
     "metadata": {},
     "output_type": "execute_result"
    }
   ],
   "source": [
    "city_list + ['Roma', 'Barcelona']"
   ]
  },
  {
   "cell_type": "code",
   "execution_count": 6,
   "metadata": {
    "cell_id": "00020-f16c3b2a-fa2b-4d4f-a720-aa8680a9ddce",
    "colab": {
     "base_uri": "https://localhost:8080/",
     "height": 38
    },
    "deepnote_cell_type": "code",
    "deepnote_to_be_reexecuted": false,
    "execution_millis": 10,
    "execution_start": 1628531802129,
    "id": "lFASrWg97_5u",
    "outputId": "47260c26-57bc-439c-e10a-439d932c67af",
    "source_hash": "cce0993a",
    "tags": []
   },
   "outputs": [
    {
     "data": {
      "text/plain": [
       "'Berlin'"
      ]
     },
     "execution_count": 6,
     "metadata": {},
     "output_type": "execute_result"
    }
   ],
   "source": [
    "city_list[-1]"
   ]
  },
  {
   "cell_type": "code",
   "execution_count": null,
   "metadata": {
    "cell_id": "00023-ca7df860-da8c-4d42-9221-f25046afc4e0",
    "deepnote_cell_type": "code",
    "deepnote_to_be_reexecuted": false,
    "execution_millis": 1,
    "execution_start": 1628531812497,
    "id": "_2uadOn_7_5u",
    "source_hash": "3e72409",
    "tags": []
   },
   "outputs": [],
   "source": [
    "city_list.append('Lyon')"
   ]
  },
  {
   "cell_type": "code",
   "execution_count": null,
   "metadata": {
    "cell_id": "00024-28e53a9f-42f7-44dc-af1e-758ce53d5971",
    "colab": {
     "base_uri": "https://localhost:8080/",
     "height": 38
    },
    "deepnote_cell_type": "code",
    "deepnote_to_be_reexecuted": false,
    "execution_millis": 5,
    "execution_start": 1628531822490,
    "id": "Z_xYeiOq7_5u",
    "outputId": "19141f15-68c9-4e96-94fe-ac8bae17136c",
    "source_hash": "49945e40",
    "tags": []
   },
   "outputs": [
    {
     "data": {
      "application/vnd.google.colaboratory.intrinsic+json": {
       "type": "string"
      },
      "text/plain": [
       "'Vienna'"
      ]
     },
     "execution_count": 36,
     "metadata": {},
     "output_type": "execute_result"
    }
   ],
   "source": [
    "city_list[-3]"
   ]
  },
  {
   "cell_type": "code",
   "execution_count": null,
   "metadata": {
    "cell_id": "00025-bfcf6b10-7290-4f48-94a6-9b78965f1af9",
    "colab": {
     "base_uri": "https://localhost:8080/"
    },
    "deepnote_cell_type": "code",
    "deepnote_to_be_reexecuted": false,
    "execution_millis": 4,
    "execution_start": 1628531828590,
    "id": "u9RxD0wg7_5v",
    "outputId": "92c50e97-8203-432c-cbaf-befc27394760",
    "source_hash": "61d8e592",
    "tags": []
   },
   "outputs": [
    {
     "data": {
      "text/plain": [
       "['Paris', 'London', 'Marseille', 'Vienna', 'Berlin', 'Lyon']"
      ]
     },
     "execution_count": 37,
     "metadata": {},
     "output_type": "execute_result"
    }
   ],
   "source": [
    "city_list"
   ]
  },
  {
   "cell_type": "markdown",
   "metadata": {
    "cell_id": "00003-1b5f91f8-ac18-4978-a049-784652432c67",
    "deepnote_cell_type": "markdown",
    "id": "MjZrBwaS7_5v",
    "tags": []
   },
   "source": [
    "## Loops"
   ]
  },
  {
   "cell_type": "code",
   "execution_count": 15,
   "metadata": {
    "cell_id": "00029-99dbaead-b2db-46bc-b5c9-bdd2f6bc7c60",
    "deepnote_cell_type": "code",
    "deepnote_to_be_reexecuted": false,
    "execution_millis": 2,
    "execution_start": 1628587104009,
    "id": "M0fFgi1B7_5v",
    "source_hash": "95df1f30",
    "tags": []
   },
   "outputs": [],
   "source": [
    "numbers = [10, 5, 20, 4, 2]"
   ]
  },
  {
   "cell_type": "code",
   "execution_count": 16,
   "metadata": {
    "cell_id": "00030-286d78b6-2a40-4582-a2e6-13e4973866e9",
    "colab": {
     "base_uri": "https://localhost:8080/"
    },
    "deepnote_cell_type": "code",
    "deepnote_to_be_reexecuted": false,
    "execution_millis": 7,
    "execution_start": 1628587104320,
    "id": "CYHptM8E7_5w",
    "outputId": "01cf5017-b186-44a6-9011-1309d29dea8a",
    "source_hash": "42bf875c",
    "tags": []
   },
   "outputs": [
    {
     "name": "stdout",
     "output_type": "stream",
     "text": [
      "10\n",
      "5\n",
      "20\n",
      "4\n",
      "2\n"
     ]
    }
   ],
   "source": [
    "#the variable a takes in turn each value of the list numbers\n",
    "for a in numbers:\n",
    "    print(a)"
   ]
  },
  {
   "cell_type": "code",
   "execution_count": 17,
   "metadata": {
    "colab": {
     "base_uri": "https://localhost:8080/"
    },
    "id": "OemGQH8saZ6g",
    "outputId": "de6167fe-512e-4007-b5a3-ab6648759e86"
   },
   "outputs": [
    {
     "name": "stdout",
     "output_type": "stream",
     "text": [
      "2\n"
     ]
    }
   ],
   "source": [
    "print(a)"
   ]
  },
  {
   "cell_type": "code",
   "execution_count": null,
   "metadata": {
    "cell_id": "00031-332b8e80-4f58-4f8a-8052-5ed350ca4a4c",
    "colab": {
     "base_uri": "https://localhost:8080/"
    },
    "deepnote_cell_type": "code",
    "deepnote_to_be_reexecuted": false,
    "execution_millis": 2,
    "execution_start": 1628587066289,
    "id": "zxOhF3Wz7_5w",
    "outputId": "a540857d-f4f2-44a9-c9e5-bac62dc7fefa",
    "source_hash": "d4aa7377",
    "tags": []
   },
   "outputs": [
    {
     "name": "stdout",
     "output_type": "stream",
     "text": [
      "lion\n",
      "chat\n",
      "fish\n",
      "ant\n"
     ]
    }
   ],
   "source": [
    "animals = ['lion', 'cat', 'fish', 'ant']\n",
    "\n",
    "for i in animals:\n",
    "    print(i)"
   ]
  },
  {
   "cell_type": "code",
   "execution_count": null,
   "metadata": {
    "cell_id": "00034-f21fbcd5-70a0-486c-a743-5a664e3261ce",
    "colab": {
     "base_uri": "https://localhost:8080/"
    },
    "deepnote_cell_type": "code",
    "deepnote_to_be_reexecuted": false,
    "execution_millis": 6,
    "execution_start": 1628587106046,
    "id": "WJVO3ukV7_5y",
    "outputId": "9e1a0f9e-4acd-4d47-f28c-3b678f422d73",
    "source_hash": "4bdf4b98",
    "tags": []
   },
   "outputs": [
    {
     "name": "stdout",
     "output_type": "stream",
     "text": [
      "[10, 5, 20, 4, 2, 10]\n",
      "20\n"
     ]
    }
   ],
   "source": [
    "print(numbers)\n",
    "\n",
    "for num in numbers:\n",
    "    if num >= 15:\n",
    "        print(num)"
   ]
  },
  {
   "cell_type": "code",
   "execution_count": null,
   "metadata": {
    "cell_id": "00035-94a313c4-72f3-4c2c-a157-e57ed51381f1",
    "colab": {
     "base_uri": "https://localhost:8080/"
    },
    "deepnote_cell_type": "code",
    "deepnote_to_be_reexecuted": false,
    "execution_millis": 9,
    "execution_start": 1628532324517,
    "id": "0IzijSOd7_5z",
    "outputId": "c596fd71-76d1-49f2-b5cd-165eeb6afd20",
    "source_hash": "b3fbf8be",
    "tags": []
   },
   "outputs": [
    {
     "name": "stdout",
     "output_type": "stream",
     "text": [
      "5\n",
      "20\n",
      "4\n",
      "2\n"
     ]
    }
   ],
   "source": [
    "for num in numbers:\n",
    "    if num != 10:\n",
    "        print(num)"
   ]
  },
  {
   "cell_type": "code",
   "execution_count": null,
   "metadata": {
    "cell_id": "00032-5d30ec7c-a149-4395-98e3-ed003d24ef66",
    "colab": {
     "base_uri": "https://localhost:8080/"
    },
    "deepnote_cell_type": "code",
    "deepnote_to_be_reexecuted": false,
    "execution_millis": 4,
    "execution_start": 1628587203401,
    "id": "tJDEHoJS7_50",
    "outputId": "dc9bd661-aa2c-4ec3-f9d7-638d96be79e3",
    "source_hash": "d3fc63f5",
    "tags": []
   },
   "outputs": [
    {
     "name": "stdout",
     "output_type": "stream",
     "text": [
      "6\n"
     ]
    }
   ],
   "source": [
    "#we try to count the number of elements in the list\n",
    "counter = 0 \n",
    "\n",
    "for i in numbers:\n",
    "    counter = counter + 1\n",
    "\n",
    "print(counter)"
   ]
  },
  {
   "cell_type": "code",
   "execution_count": null,
   "metadata": {
    "cell_id": "00033-f676b0f9-af68-490c-88d9-c7282d5d0118",
    "colab": {
     "base_uri": "https://localhost:8080/"
    },
    "deepnote_cell_type": "code",
    "deepnote_to_be_reexecuted": false,
    "execution_millis": 6,
    "execution_start": 1628532304070,
    "id": "gmvYJ4mh7_50",
    "outputId": "735f2363-3022-4e77-b04e-cdbf9629bf79",
    "source_hash": "b002ad98",
    "tags": []
   },
   "outputs": [
    {
     "data": {
      "text/plain": [
       "6"
      ]
     },
     "execution_count": 50,
     "metadata": {},
     "output_type": "execute_result"
    }
   ],
   "source": [
    "len(numbers)"
   ]
  },
  {
   "cell_type": "code",
   "execution_count": 18,
   "metadata": {
    "cell_id": "00036-c6abc6a1-42b1-4dcb-b781-464d5da1ae5e",
    "colab": {
     "base_uri": "https://localhost:8080/"
    },
    "deepnote_cell_type": "code",
    "deepnote_to_be_reexecuted": false,
    "execution_millis": 6,
    "execution_start": 1628532349838,
    "id": "8yDREiwh7_51",
    "outputId": "1c38c38b-6ff2-45bd-e37e-0253cb6e0f24",
    "source_hash": "2bbb8bee",
    "tags": []
   },
   "outputs": [
    {
     "name": "stdout",
     "output_type": "stream",
     "text": [
      "0\n",
      "1\n",
      "2\n",
      "3\n",
      "4\n"
     ]
    }
   ],
   "source": [
    "for i in range(0,5):\n",
    "    print(i)"
   ]
  },
  {
   "cell_type": "code",
   "execution_count": 19,
   "metadata": {
    "cell_id": "00036-6d299468-13f0-440f-94ca-6097ab1d4e08",
    "colab": {
     "base_uri": "https://localhost:8080/"
    },
    "deepnote_cell_type": "code",
    "deepnote_to_be_reexecuted": false,
    "execution_millis": 5,
    "execution_start": 1628534260366,
    "id": "VmJInYje7_51",
    "outputId": "7f9bce2d-e910-4356-df80-c319a3db43bc",
    "source_hash": "98114fbd",
    "tags": []
   },
   "outputs": [
    {
     "data": {
      "text/plain": [
       "range(0, 5)"
      ]
     },
     "execution_count": 19,
     "metadata": {},
     "output_type": "execute_result"
    }
   ],
   "source": [
    "range(5) # iterable from 0 to 5 with a step of 1"
   ]
  },
  {
   "cell_type": "code",
   "execution_count": null,
   "metadata": {
    "cell_id": "00038-5f65e2db-a78a-40c6-a310-b3c969af0124",
    "colab": {
     "base_uri": "https://localhost:8080/"
    },
    "deepnote_cell_type": "code",
    "deepnote_to_be_reexecuted": false,
    "execution_millis": 7,
    "execution_start": 1628532474911,
    "id": "3fttcLb-7_52",
    "outputId": "cf0ec187-fe3e-414b-b2d1-668c1905dc39",
    "source_hash": "f30821c9",
    "tags": []
   },
   "outputs": [
    {
     "data": {
      "text/plain": [
       "range(2, 10)"
      ]
     },
     "execution_count": 53,
     "metadata": {},
     "output_type": "execute_result"
    }
   ],
   "source": [
    "range(2, 10) # iterable from 2 to 10 with a step of 1"
   ]
  },
  {
   "cell_type": "code",
   "execution_count": null,
   "metadata": {
    "cell_id": "00039-f1ec15eb-e75d-47b8-bd70-9712b019f189",
    "colab": {
     "base_uri": "https://localhost:8080/"
    },
    "deepnote_cell_type": "code",
    "deepnote_to_be_reexecuted": false,
    "execution_millis": 4,
    "execution_start": 1628532488770,
    "id": "TZ_uaU8w7_52",
    "outputId": "73d9c8ce-36ee-48ab-9718-1958214fd6b2",
    "source_hash": "36003f9f",
    "tags": []
   },
   "outputs": [
    {
     "name": "stdout",
     "output_type": "stream",
     "text": [
      "2\n",
      "3\n",
      "4\n",
      "5\n",
      "6\n",
      "7\n",
      "8\n",
      "9\n"
     ]
    }
   ],
   "source": [
    "for i in range(2, 10):\n",
    "    print(i)"
   ]
  },
  {
   "cell_type": "code",
   "execution_count": null,
   "metadata": {
    "cell_id": "00040-a981b205-f684-4849-9b6d-5f4f984cc16b",
    "colab": {
     "base_uri": "https://localhost:8080/"
    },
    "deepnote_cell_type": "code",
    "deepnote_to_be_reexecuted": false,
    "execution_millis": 8,
    "execution_start": 1628534282579,
    "id": "Rz41cljf7_53",
    "outputId": "62b11f95-c312-4fee-b9ef-16b518c0fea2",
    "source_hash": "611709c5",
    "tags": []
   },
   "outputs": [
    {
     "data": {
      "text/plain": [
       "range(2, 10, 2)"
      ]
     },
     "execution_count": 58,
     "metadata": {},
     "output_type": "execute_result"
    }
   ],
   "source": [
    "range(2, 10, 2) # iterable from 2 to 10 with a step of 2"
   ]
  },
  {
   "cell_type": "code",
   "execution_count": null,
   "metadata": {
    "cell_id": "00041-a978bca2-de6e-4552-be01-1a47d6475d17",
    "colab": {
     "base_uri": "https://localhost:8080/"
    },
    "deepnote_cell_type": "code",
    "deepnote_to_be_reexecuted": false,
    "execution_millis": 6,
    "execution_start": 1628534284847,
    "id": "xa18pgMH7_54",
    "outputId": "ba7d0367-e911-4ae1-9d40-32425eb56ee3",
    "source_hash": "76029f26",
    "tags": []
   },
   "outputs": [
    {
     "name": "stdout",
     "output_type": "stream",
     "text": [
      "2\n",
      "4\n",
      "6\n",
      "8\n"
     ]
    }
   ],
   "source": [
    "for i in range(2, 10, 2):\n",
    "    print(i)"
   ]
  },
  {
   "cell_type": "code",
   "execution_count": null,
   "metadata": {
    "cell_id": "00042-85c22583-9cf2-49f7-93b5-a328443ba2a4",
    "colab": {
     "base_uri": "https://localhost:8080/"
    },
    "deepnote_cell_type": "code",
    "deepnote_to_be_reexecuted": false,
    "execution_millis": 11,
    "execution_start": 1628590856285,
    "id": "sL-lo8OJ7_54",
    "outputId": "cb9672c9-b313-47d3-ef2b-952e11cb5d87",
    "source_hash": "577dac5b",
    "tags": []
   },
   "outputs": [
    {
     "name": "stdout",
     "output_type": "stream",
     "text": [
      "10\n"
     ]
    }
   ],
   "source": [
    "# another type of loop\n",
    "stoper = 0\n",
    "\n",
    "while (stoper < 10):\n",
    "    stoper = stoper + 1\n",
    "    #print(stoper)\n",
    "print(stoper)"
   ]
  },
  {
   "cell_type": "markdown",
   "metadata": {
    "cell_id": "00005-3242ac45-09c0-4b5e-985c-216a478221ac",
    "deepnote_cell_type": "markdown",
    "id": "2AHAIhJd7_55",
    "tags": []
   },
   "source": [
    "### Questions"
   ]
  },
  {
   "cell_type": "code",
   "execution_count": 20,
   "metadata": {
    "cell_id": "00043-45216040-4b56-4b93-b8dc-776ba3ff4c63",
    "deepnote_cell_type": "code",
    "deepnote_to_be_reexecuted": false,
    "execution_millis": 13,
    "execution_start": 1628587419689,
    "id": "kiskT3DO7_55",
    "outputId": "941dbbc0-b051-43ee-c383-be4dd8dafbac",
    "source_hash": "f919487a",
    "tags": []
   },
   "outputs": [
    {
     "name": "stdout",
     "output_type": "stream",
     "text": [
      "Hello\n",
      "I\n",
      "am\n",
      "Sophie\n"
     ]
    }
   ],
   "source": [
    "best_list = ['Hello', 'I', 'am', 'Sophie']\n",
    "\n",
    "for elem in best_list:\n",
    "    print(elem)"
   ]
  },
  {
   "cell_type": "code",
   "execution_count": null,
   "metadata": {
    "cell_id": "00044-0fe2e12a-6c02-403c-9ab6-43ec070f2630",
    "deepnote_cell_type": "code",
    "deepnote_to_be_reexecuted": false,
    "execution_millis": 4,
    "execution_start": 1628534320666,
    "id": "RjBzupRa7_55",
    "outputId": "5361ae04-47e7-4462-dbd2-8c49efa56359",
    "source_hash": "31eb8842",
    "tags": []
   },
   "outputs": [
    {
     "name": "stdout",
     "output_type": "stream",
     "text": [
      "hello\n",
      "hello\n",
      "hello\n"
     ]
    }
   ],
   "source": [
    "for i in range(3):\n",
    "    print('hello')"
   ]
  },
  {
   "cell_type": "code",
   "execution_count": null,
   "metadata": {
    "cell_id": "00044-f877abaf-beee-4709-8016-89e10e5c81ba",
    "deepnote_cell_type": "code",
    "deepnote_to_be_reexecuted": false,
    "execution_millis": 9,
    "execution_start": 1628587307209,
    "id": "Fbh-7fPz7_56",
    "outputId": "33d996a6-5d18-4b16-9ac9-2977e92b88c2",
    "source_hash": "5167b767",
    "tags": []
   },
   "outputs": [
    {
     "name": "stdout",
     "output_type": "stream",
     "text": [
      "2\n",
      "3\n"
     ]
    }
   ],
   "source": [
    "my_list = [1, 2, 30, 20, 12]\n",
    "\n",
    "for i in my_list:\n",
    "    if i >= 15:\n",
    "        print(my_list.index(i))"
   ]
  },
  {
   "cell_type": "code",
   "execution_count": null,
   "metadata": {
    "cell_id": "00043-3a1c3a18-acbc-4a0f-a280-17df7135e895",
    "deepnote_cell_type": "code",
    "deepnote_to_be_reexecuted": false,
    "execution_millis": 0,
    "execution_start": 1628532576622,
    "id": "gn9e0WFq7_56",
    "outputId": "3ad8b536-b246-49ec-f238-32351ad18133",
    "source_hash": "ef911e04",
    "tags": []
   },
   "outputs": [
    {
     "name": "stdout",
     "output_type": "stream",
     "text": [
      "3\n"
     ]
    }
   ],
   "source": [
    "result = 8\n",
    "\n",
    "for i in [1, 2, 1, 1]:\n",
    "    result = result - i\n",
    "\n",
    "print(result)"
   ]
  },
  {
   "cell_type": "code",
   "execution_count": null,
   "metadata": {
    "cell_id": "00044-eec4de07-b786-4861-b970-587d709f1a31",
    "deepnote_cell_type": "code",
    "deepnote_to_be_reexecuted": false,
    "execution_millis": 11,
    "execution_start": 1628534344659,
    "id": "O1Sep8Er7_56",
    "outputId": "d8c71ee8-c9ba-42dd-ebe2-5cc6db5e8aec",
    "source_hash": "5f0030b0",
    "tags": []
   },
   "outputs": [
    {
     "name": "stdout",
     "output_type": "stream",
     "text": [
      "0\n",
      "1\n",
      "2\n",
      "3\n",
      "4\n"
     ]
    }
   ],
   "source": [
    "result_list = []\n",
    "\n",
    "for i in range(5):\n",
    "    result_list.append(i)\n",
    "\n",
    "print(result_list)"
   ]
  },
  {
   "cell_type": "markdown",
   "metadata": {
    "cell_id": "00004-ff3f876f-7809-4ca3-b700-7e571619b71f",
    "deepnote_cell_type": "markdown",
    "id": "tM2mMnwU7_57",
    "tags": []
   },
   "source": [
    "## Exercises"
   ]
  },
  {
   "cell_type": "markdown",
   "metadata": {
    "cell_id": "00052-c11c95f5-6850-4faf-ae90-94950de32e6e",
    "deepnote_cell_type": "markdown",
    "id": "NTCc2Wus7_57",
    "tags": []
   },
   "source": [
    "#### Exercise 1\n",
    "Write a program that displays the elements smaller than 13 in the list `[1, 24, 23, 12, 23, 11, 5, 30]`."
   ]
  },
  {
   "cell_type": "code",
   "execution_count": 21,
   "metadata": {
    "cell_id": "00053-b9f0749e-fafa-4502-86f2-192fe9cb4b51",
    "deepnote_cell_type": "code",
    "deepnote_to_be_reexecuted": false,
    "execution_millis": 1,
    "execution_start": 1628534393248,
    "id": "nnlbo_sZ7_57",
    "source_hash": "b7b80c6e",
    "tags": []
   },
   "outputs": [
    {
     "name": "stdout",
     "output_type": "stream",
     "text": [
      "1\n",
      "12\n",
      "11\n",
      "5\n"
     ]
    }
   ],
   "source": [
    "# Your in \n",
    "l= [1,24,23,12,23,11,5,30]\n",
    "for i in l:\n",
    "    if (i<13):\n",
    "        print(i)"
   ]
  },
  {
   "cell_type": "markdown",
   "metadata": {
    "cell_id": "00007-02b66dd3-b2b6-4adf-8e3b-b34c79d284f2",
    "deepnote_cell_type": "markdown",
    "id": "Yg1CpfH17_57",
    "tags": []
   },
   "source": [
    "#### Exercise 2\n",
    "Write a program that adds all the elements of the list `[1, 3, 4, 2, 6]`."
   ]
  },
  {
   "cell_type": "code",
   "execution_count": 22,
   "metadata": {
    "cell_id": "00056-9ee72e2f-526d-4d01-9747-c9f2a1878424",
    "deepnote_cell_type": "code",
    "deepnote_to_be_reexecuted": false,
    "execution_millis": 1,
    "execution_start": 1628534435279,
    "id": "4__aqFER7_58",
    "source_hash": "b7b80c6e",
    "tags": []
   },
   "outputs": [
    {
     "name": "stdout",
     "output_type": "stream",
     "text": [
      "16\n"
     ]
    }
   ],
   "source": [
    "# your code\n",
    "l1=[1,3,4,2,6]\n",
    "sum=0\n",
    "for i in l1:\n",
    "    sum+=i\n",
    "print(sum)\n",
    "    "
   ]
  },
  {
   "cell_type": "markdown",
   "metadata": {
    "cell_id": "00058-e490b634-166d-4a04-bc1b-4d6f69492c99",
    "deepnote_cell_type": "markdown",
    "deepnote_to_be_reexecuted": false,
    "execution_millis": 5,
    "execution_start": 1628534485390,
    "id": "CNRxoUEE7_58",
    "source_hash": "7178b3ce",
    "tags": []
   },
   "source": [
    "#### Exercise 3\n",
    "Write a program that displays the following output, only using the `range` function, a for loop and a print statament:\n",
    "\n",
    "1 \\\n",
    "4 \\\n",
    "9 \\\n",
    "16 \\\n",
    "25"
   ]
  },
  {
   "cell_type": "code",
   "execution_count": 57,
   "metadata": {
    "cell_id": "00059-cc58aaf6-bf01-43f7-9811-33d635ccbc10",
    "deepnote_cell_type": "code",
    "deepnote_to_be_reexecuted": false,
    "execution_millis": 3,
    "execution_start": 1628534540205,
    "id": "mLQskfVj7_58",
    "source_hash": "b7b80c6e",
    "tags": []
   },
   "outputs": [
    {
     "name": "stdout",
     "output_type": "stream",
     "text": [
      "1\n",
      "4\n",
      "9\n",
      "16\n",
      "25\n"
     ]
    }
   ],
   "source": [
    "# your code\n",
    "a=1\n",
    "for i in range(1,6):\n",
    "    a=i*i\n",
    "    print(a)"
   ]
  },
  {
   "cell_type": "markdown",
   "metadata": {
    "cell_id": "00059-2a182a50-5796-4bb9-9cca-85a895d48e3b",
    "deepnote_cell_type": "markdown",
    "deepnote_to_be_reexecuted": false,
    "execution_millis": 7,
    "execution_start": 1628534511179,
    "id": "LS1qSaA47_58",
    "source_hash": "8283b5d1",
    "tags": []
   },
   "source": [
    "#### Exercise 4\n",
    "Write a program that displays all numbers divisible by 7 and multiples of 5 between 888 and 2000 (inclusive)."
   ]
  },
  {
   "cell_type": "code",
   "execution_count": 75,
   "metadata": {
    "cell_id": "00060-68de6041-edaf-4c21-b30b-d0ee8b58c6eb",
    "deepnote_cell_type": "code",
    "deepnote_to_be_reexecuted": false,
    "execution_millis": 0,
    "execution_start": 1628587744322,
    "id": "zqlDvox77_58",
    "source_hash": "b7b80c6e",
    "tags": []
   },
   "outputs": [
    {
     "name": "stdout",
     "output_type": "stream",
     "text": [
      "910\n",
      "945\n",
      "980\n",
      "1015\n",
      "1050\n",
      "1085\n",
      "1120\n",
      "1155\n",
      "1190\n",
      "1225\n",
      "1260\n",
      "1295\n",
      "1330\n",
      "1365\n",
      "1400\n",
      "1435\n",
      "1470\n",
      "1505\n",
      "1540\n",
      "1575\n",
      "1610\n",
      "1645\n",
      "1680\n",
      "1715\n",
      "1750\n",
      "1785\n",
      "1820\n",
      "1855\n",
      "1890\n",
      "1925\n",
      "1960\n",
      "1995\n"
     ]
    }
   ],
   "source": [
    "# your code\n",
    "for i in range(888,2001):\n",
    "    if (i % 7==0 and i % 5 == 0):\n",
    "        print(i)"
   ]
  },
  {
   "cell_type": "markdown",
   "metadata": {
    "cell_id": "00062-90311035-825e-4697-a15b-8f351c066d31",
    "deepnote_cell_type": "markdown",
    "id": "c0YI7jZn7_58",
    "tags": []
   },
   "source": [
    "#### Exercise 5\n",
    "By using the following list `day_list`, displays only the weekdays, then only the weekend days (witout recreating a new list by hand)."
   ]
  },
  {
   "cell_type": "code",
   "execution_count": 77,
   "metadata": {
    "cell_id": "00063-cbd3513d-68bd-4cbb-850b-eba5da571e0e",
    "deepnote_cell_type": "code",
    "deepnote_to_be_reexecuted": false,
    "execution_millis": 1,
    "execution_start": 1628534629662,
    "id": "uvw5xhR57_58",
    "source_hash": "68b53bfb",
    "tags": []
   },
   "outputs": [
    {
     "name": "stdout",
     "output_type": "stream",
     "text": [
      "weekdays are monday tuesday wednesday thursday friday\n",
      "weekends are saturday sunday\n"
     ]
    }
   ],
   "source": [
    "day_list = ['monday', 'tuesday', 'wednesday', 'thursday', 'friday', 'saturday', 'sunday']\n",
    "\n",
    "# your code\n",
    "print(\"weekdays are\",*day_list[:5])\n",
    "print(\"weekends are\",*day_list[-2:])\n"
   ]
  },
  {
   "cell_type": "markdown",
   "metadata": {
    "cell_id": "00064-e5cc6288-133f-4181-8e62-71ca16032b15",
    "deepnote_cell_type": "markdown",
    "id": "JRUvM2Fx7_59",
    "tags": []
   },
   "source": [
    "#### Exercise 6\n",
    "Find 2 ways to access the last element of the list `day_list`."
   ]
  },
  {
   "cell_type": "code",
   "execution_count": 65,
   "metadata": {
    "cell_id": "00065-0f976bae-f732-4e48-8d9f-6ad45aad2183",
    "deepnote_cell_type": "code",
    "deepnote_to_be_reexecuted": false,
    "execution_millis": 3,
    "execution_start": 1628534675861,
    "id": "diSyMO5C7_59",
    "source_hash": "b7b80c6e",
    "tags": []
   },
   "outputs": [
    {
     "name": "stdout",
     "output_type": "stream",
     "text": [
      "sunday\n",
      "sunday\n"
     ]
    }
   ],
   "source": [
    "# your code\n",
    "print(day_list[-1])\n",
    "print(day_list[len(day_list)-1])"
   ]
  },
  {
   "cell_type": "markdown",
   "metadata": {
    "cell_id": "00065-04f4060f-cbf0-45eb-9d3a-a06d058f79bf",
    "deepnote_cell_type": "markdown",
    "id": "jmFqnW7D7_59",
    "tags": []
   },
   "source": [
    "#### Exercise 7\n",
    "Find 2 ways to reverse the days of the week from the previous list."
   ]
  },
  {
   "cell_type": "code",
   "execution_count": 66,
   "metadata": {
    "cell_id": "00067-565aa265-a0e7-42f8-8616-f79873747df5",
    "deepnote_cell_type": "code",
    "deepnote_to_be_reexecuted": false,
    "execution_millis": 1,
    "execution_start": 1628534726494,
    "id": "SwlYufg97_59",
    "source_hash": "b7b80c6e",
    "tags": []
   },
   "outputs": [
    {
     "name": "stdout",
     "output_type": "stream",
     "text": [
      "['sunday', 'saturday', 'friday', 'thursday', 'wednesday', 'tuesday', 'monday']\n"
     ]
    }
   ],
   "source": [
    "# your code\n",
    "print(day_list[-1::-1])"
   ]
  },
  {
   "cell_type": "markdown",
   "metadata": {
    "cell_id": "00068-d86b95a5-5032-4dca-bb94-b84940f1c40d",
    "deepnote_cell_type": "markdown",
    "id": "pwoI1qur7_59",
    "tags": []
   },
   "source": [
    "#### Exercise 8\n",
    "There is a Python function `min()` to find the smallest element in a list: https://docs.python.org/3/library/functions.html#min. \\\n",
    "Use this function to find the minimum of [19, 27, 1550, 38, 4, 28]. \\\n",
    "Then find another way to get the same result without using the `min()` function"
   ]
  },
  {
   "cell_type": "code",
   "execution_count": 68,
   "metadata": {
    "cell_id": "00069-ec1dfb5b-6e77-4a8c-ac0c-797b129cb59d",
    "deepnote_cell_type": "code",
    "deepnote_to_be_reexecuted": false,
    "execution_millis": 2,
    "execution_start": 1628534768657,
    "id": "jbDBuCp67_59",
    "source_hash": "b7b80c6e",
    "tags": []
   },
   "outputs": [
    {
     "name": "stdout",
     "output_type": "stream",
     "text": [
      "4\n",
      "1550\n"
     ]
    }
   ],
   "source": [
    "# your code\n",
    "list=[19,27,1550,38,4,28]\n",
    "print(min(list))        "
   ]
  },
  {
   "cell_type": "markdown",
   "metadata": {
    "cell_id": "00070-ac607a8b-e06f-420e-a6eb-7a1464bf4e60",
    "deepnote_cell_type": "markdown",
    "id": "qUdvXP3D7_59",
    "tags": []
   },
   "source": [
    "#### Exercice 9\n",
    "There is a Python function `max()` to find the biggest element in a list: https://docs.python.org/3/library/functions.html#max. \\\n",
    "Use this function to find the maximum of [19, 27, 1550, 38, 4, 28]. \\\n",
    "Then find another way to get the same result without using the `max()` function"
   ]
  },
  {
   "cell_type": "code",
   "execution_count": null,
   "metadata": {
    "cell_id": "00066-44427567-fc5e-44ab-8038-bc8a7ba5569e",
    "deepnote_cell_type": "code",
    "deepnote_to_be_reexecuted": false,
    "execution_millis": 0,
    "execution_start": 1628589594034,
    "id": "kGR_H1Pl7_59",
    "source_hash": "b7b80c6e",
    "tags": []
   },
   "outputs": [],
   "source": [
    "# your code"
   ]
  },
  {
   "cell_type": "markdown",
   "metadata": {
    "cell_id": "00031-0f653e4a-eb14-41a5-93f6-9f8cc821032f",
    "deepnote_cell_type": "markdown",
    "deepnote_to_be_reexecuted": false,
    "execution_millis": 1,
    "execution_start": 1628588586989,
    "id": "k09UvQQi7_5-",
    "source_hash": "b623e53d",
    "tags": []
   },
   "source": [
    "#### Exercise 10\n",
    "You have coins whose value is recorded in this list: [1, 2, 0.5, 1, 2, 0.1, 0.1, 2, 1, 2, 0.2, 0.1, 0.5].\n",
    "How many coins do you have?\n",
    "How many coins of 1 do you have?\n",
    "Using the `sort()` method (https://docs.python.org/fr/3.8/library/stdtypes.html?highlight=sort#list.sort), sort your coins in descending order."
   ]
  },
  {
   "cell_type": "code",
   "execution_count": null,
   "metadata": {
    "cell_id": "00067-70fbf4d0-5a81-4737-bc8a-d0821fe0aa0a",
    "deepnote_cell_type": "code",
    "deepnote_to_be_reexecuted": false,
    "execution_millis": 2,
    "execution_start": 1628589744177,
    "id": "bsIkQNel7_5-",
    "source_hash": "ad4a5b9",
    "tags": []
   },
   "outputs": [],
   "source": [
    "coins = [1, 2, 0.5, 1, 2, 0.1, 0.1, 2, 1, 2, 0.2, 0.1, 0.5]\n",
    "\n",
    "# your code"
   ]
  },
  {
   "cell_type": "code",
   "execution_count": null,
   "metadata": {
    "id": "ItoHwP1YPYvi"
   },
   "outputs": [],
   "source": []
  }
 ],
 "metadata": {
  "colab": {
   "collapsed_sections": [
    "CNRxoUEE7_58",
    "qUdvXP3D7_59"
   ],
   "provenance": []
  },
  "deepnote": {
   "is_reactive": false
  },
  "deepnote_execution_queue": [],
  "deepnote_notebook_id": "96eddaae-2c56-4cfa-9f5d-7b2aed4c30c5",
  "kernelspec": {
   "display_name": "Python 3 (ipykernel)",
   "language": "python",
   "name": "python3"
  },
  "language_info": {
   "codemirror_mode": {
    "name": "ipython",
    "version": 3
   },
   "file_extension": ".py",
   "mimetype": "text/x-python",
   "name": "python",
   "nbconvert_exporter": "python",
   "pygments_lexer": "ipython3",
   "version": "3.10.6"
  }
 },
 "nbformat": 4,
 "nbformat_minor": 1
}
