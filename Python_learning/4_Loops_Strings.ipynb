{
 "cells": [
  {
   "cell_type": "markdown",
   "metadata": {
    "cell_id": "00000-fc136104-39cf-4027-8677-758fad31c0ff",
    "deepnote_cell_type": "markdown",
    "id": "Yx9Fp2uiEEMs",
    "tags": []
   },
   "source": [
    "# Class5 - Loops, strings and co"
   ]
  },
  {
   "cell_type": "markdown",
   "metadata": {
    "cell_id": "00001-e5b0839a-53b0-49d6-b71d-f11fa94110da",
    "deepnote_cell_type": "markdown",
    "id": "4Qal2EyiEEMw",
    "tags": []
   },
   "source": [
    "Course objectives:\n",
    "- Know how to use loops with strings\n",
    "- Know how to import and use python modules\n",
    "- Know how to use built-in methods associated with the string type\n",
    "- Know how to combine the knowledge of classes 1, 2, 3, 4 and 5 to write simple scripts"
   ]
  },
  {
   "cell_type": "markdown",
   "metadata": {
    "cell_id": "00002-5efb51e9-a3b6-4c5f-be83-5b5c283cfcca",
    "deepnote_cell_type": "markdown",
    "id": "agnUbB7ZEEMx",
    "tags": []
   },
   "source": [
    "## Loops and strings"
   ]
  },
  {
   "cell_type": "code",
   "execution_count": 1,
   "metadata": {
    "cell_id": "00002-a461c235-2da9-4659-8df7-c7b9e276d1f6",
    "deepnote_cell_type": "code",
    "deepnote_to_be_reexecuted": false,
    "execution_millis": 30,
    "execution_start": 1628531009030,
    "id": "rqFnzovSEEMx",
    "source_hash": "9ea9ff20",
    "tags": []
   },
   "outputs": [
    {
     "name": "stdout",
     "output_type": "stream",
     "text": [
      "C\n",
      "a\n",
      "m\n",
      "i\n",
      "l\n",
      "l\n",
      "e\n"
     ]
    }
   ],
   "source": [
    "for i in \"Camille\":\n",
    "    print(i)"
   ]
  },
  {
   "cell_type": "code",
   "execution_count": 4,
   "metadata": {
    "cell_id": "00004-809d0bef-88c9-46a4-9a9a-d0c03befa900",
    "deepnote_cell_type": "code",
    "deepnote_to_be_reexecuted": false,
    "execution_millis": 14,
    "execution_start": 1628531027797,
    "id": "lk9gsPt6EEM0",
    "source_hash": "7de2b1e5",
    "tags": []
   },
   "outputs": [
    {
     "name": "stdout",
     "output_type": "stream",
     "text": [
      "C\n",
      "a\n",
      "m\n",
      "i\n",
      "l\n",
      "l\n",
      "e\n",
      " \n",
      "c\n"
     ]
    }
   ],
   "source": [
    "name = \"Camille c\"\n",
    "for i in name:\n",
    "    print(i)"
   ]
  },
  {
   "cell_type": "code",
   "execution_count": 3,
   "metadata": {
    "cell_id": "00005-4f65365c-ff7b-47b6-a192-ce20f096c7d7",
    "deepnote_cell_type": "code",
    "deepnote_to_be_reexecuted": false,
    "execution_millis": 16,
    "execution_start": 1628531078405,
    "id": "tn74248aEEM0",
    "source_hash": "495be223",
    "tags": []
   },
   "outputs": [
    {
     "name": "stdout",
     "output_type": "stream",
     "text": [
      "H\n",
      "e\n",
      "r\n",
      "e\n",
      " \n",
      "i\n",
      "s\n",
      " \n",
      "a\n",
      " \n",
      "l\n",
      "o\n",
      "n\n",
      "g\n",
      "e\n",
      "r\n",
      " \n",
      "s\n",
      "e\n",
      "n\n",
      "t\n",
      "e\n",
      "n\n",
      "c\n",
      "e\n",
      "!\n"
     ]
    }
   ],
   "source": [
    "phrase = \"Here is a longer sentence!\"\n",
    "for i in phrase:\n",
    "    print(i)"
   ]
  },
  {
   "cell_type": "code",
   "execution_count": null,
   "metadata": {
    "cell_id": "00006-109dd8a9-d70e-4b1c-88f4-10f201693f84",
    "deepnote_cell_type": "code",
    "deepnote_to_be_reexecuted": false,
    "execution_millis": 16,
    "execution_start": 1628531176646,
    "id": "67VqXhJREEM1",
    "source_hash": "4a0f510e",
    "tags": []
   },
   "outputs": [],
   "source": [
    "print(name[0])\n",
    "print(name[1])\n",
    "print(name[2])\n",
    "print(name[3])\n",
    "print(name[4])\n",
    "print(name[5])\n",
    "print(name[6])"
   ]
  },
  {
   "cell_type": "code",
   "execution_count": 5,
   "metadata": {
    "cell_id": "00006-195b7265-53a8-460c-ad2b-2c37de20ee64",
    "colab": {
     "base_uri": "https://localhost:8080/"
    },
    "deepnote_cell_type": "code",
    "deepnote_to_be_reexecuted": false,
    "execution_millis": 7,
    "execution_start": 1628531177715,
    "id": "5L2EldopEEM2",
    "outputId": "f4108270-644e-4426-80f5-2dbc0e9c6978",
    "source_hash": "f8b83d16",
    "tags": []
   },
   "outputs": [
    {
     "name": "stdout",
     "output_type": "stream",
     "text": [
      "C\n",
      "a\n",
      "m\n",
      "i\n",
      "l\n",
      "l\n",
      "e\n"
     ]
    }
   ],
   "source": [
    "name = \"Camille\"\n",
    "for i in range(len(name)):\n",
    "    print(name[i])"
   ]
  },
  {
   "cell_type": "code",
   "execution_count": 6,
   "metadata": {
    "colab": {
     "base_uri": "https://localhost:8080/"
    },
    "id": "AOj5veDv2YNN",
    "outputId": "a08eec77-b804-4965-ac62-de6a8c5beacc"
   },
   "outputs": [
    {
     "name": "stdout",
     "output_type": "stream",
     "text": [
      "1\n",
      "2\n",
      "3\n",
      "4\n",
      "5\n",
      "6\n",
      "7\n"
     ]
    }
   ],
   "source": [
    "for i in range(0,len(name)):\n",
    "  j = i + 1\n",
    "  print(j)"
   ]
  },
  {
   "cell_type": "markdown",
   "metadata": {
    "cell_id": "00009-808383ec-8a50-4b73-a570-6f529c0a7ec3",
    "deepnote_cell_type": "markdown",
    "id": "VvI5ud8QEEM2",
    "tags": []
   },
   "source": [
    "### Questions"
   ]
  },
  {
   "cell_type": "code",
   "execution_count": 7,
   "metadata": {
    "cell_id": "00010-39d9545b-f87b-46ec-bacf-86dfff32fba7",
    "colab": {
     "base_uri": "https://localhost:8080/"
    },
    "deepnote_cell_type": "code",
    "id": "Bxz96VoXEEM3",
    "outputId": "e3ed50f0-9e79-4ca7-83f6-bd6afe4d046e",
    "tags": []
   },
   "outputs": [
    {
     "name": "stdout",
     "output_type": "stream",
     "text": [
      "L\n",
      "e\n",
      "a\n"
     ]
    }
   ],
   "source": [
    "for i in \"Lea\":\n",
    "    print(i)"
   ]
  },
  {
   "cell_type": "code",
   "execution_count": 9,
   "metadata": {
    "cell_id": "00011-d09bbd36-1079-453f-bac6-dcf0177114f0",
    "colab": {
     "base_uri": "https://localhost:8080/",
     "height": 205
    },
    "deepnote_cell_type": "code",
    "deepnote_to_be_reexecuted": false,
    "execution_millis": 884,
    "execution_start": 1628531245975,
    "id": "OsqEnUoeEEM3",
    "outputId": "dbf51909-6dc4-4a5d-cdee-413609ff3410",
    "source_hash": "514b147c",
    "tags": []
   },
   "outputs": [
    {
     "name": "stdout",
     "output_type": "stream",
     "text": [
      "R\n",
      "o\n",
      "m\n",
      "u\n",
      "a\n",
      "l\n",
      "d\n"
     ]
    }
   ],
   "source": [
    "for i in \"Romuald\":\n",
    "    print(i)"
   ]
  },
  {
   "cell_type": "code",
   "execution_count": null,
   "metadata": {
    "cell_id": "00012-b98197fa-0391-4bd5-b568-e64548bd2ec8",
    "colab": {
     "base_uri": "https://localhost:8080/"
    },
    "deepnote_cell_type": "code",
    "deepnote_to_be_reexecuted": false,
    "execution_millis": 18,
    "execution_start": 1628531359018,
    "id": "kfTioyG4EEM4",
    "outputId": "02f39a1f-830f-4faa-d543-c6dee5ec9158",
    "source_hash": "6b6db4e7",
    "tags": []
   },
   "outputs": [
    {
     "name": "stdout",
     "output_type": "stream",
     "text": [
      "n\n",
      "j\n",
      "o\n"
     ]
    }
   ],
   "source": [
    "mot = \"Bonjour\"\n",
    "for i in mot[2:5]:\n",
    "    print(i)"
   ]
  },
  {
   "cell_type": "code",
   "execution_count": null,
   "metadata": {
    "cell_id": "00013-8f5dc86c-15ef-4d50-ac5d-741fa36f6f0b",
    "colab": {
     "base_uri": "https://localhost:8080/"
    },
    "deepnote_cell_type": "code",
    "deepnote_to_be_reexecuted": false,
    "execution_millis": 24,
    "execution_start": 1628531385170,
    "id": "IzPWxwJlEEM4",
    "outputId": "dec22908-e525-4c3e-ffb3-bde00c1fad99",
    "source_hash": "536f16da",
    "tags": []
   },
   "outputs": [
    {
     "name": "stdout",
     "output_type": "stream",
     "text": [
      "C Camille\n",
      "a Camille\n",
      "m Camille\n",
      "i Camille\n",
      "l Camille\n",
      "l Camille\n",
      "e Camille\n"
     ]
    }
   ],
   "source": [
    "name = \"Camille\"\n",
    "for i in name:\n",
    "    print(i, name)"
   ]
  },
  {
   "cell_type": "code",
   "execution_count": null,
   "metadata": {
    "cell_id": "00014-bc867e9e-a10e-4c0d-b5b9-b3cead40e53a",
    "colab": {
     "base_uri": "https://localhost:8080/"
    },
    "deepnote_cell_type": "code",
    "deepnote_to_be_reexecuted": false,
    "execution_millis": 19,
    "execution_start": 1628531406978,
    "id": "Rc-vWe7NEEM5",
    "outputId": "2030282d-307e-42e2-cd00-3714a92df8fd",
    "source_hash": "e3df98ae",
    "tags": []
   },
   "outputs": [
    {
     "name": "stdout",
     "output_type": "stream",
     "text": [
      "CCC\n",
      "aaa\n",
      "mmm\n",
      "iii\n",
      "lll\n",
      "lll\n",
      "eee\n"
     ]
    }
   ],
   "source": [
    "for i in name:\n",
    "    print(i * 3)"
   ]
  },
  {
   "cell_type": "markdown",
   "metadata": {
    "cell_id": "00019-e3d94a97-cd93-4bb6-b34e-e6e6ba6065ea",
    "deepnote_cell_type": "markdown",
    "deepnote_to_be_reexecuted": false,
    "execution_millis": 0,
    "execution_start": 1628534231485,
    "id": "mxjY9Q0_EENI",
    "source_hash": "6907b7ec",
    "tags": []
   },
   "source": [
    "## Exercises"
   ]
  },
  {
   "cell_type": "markdown",
   "metadata": {
    "cell_id": "00049-ca1dbddd-f561-4401-8224-534d607a79dd",
    "deepnote_cell_type": "markdown",
    "id": "BcSKstI_EENI",
    "tags": []
   },
   "source": [
    "### Exercise 1"
   ]
  },
  {
   "cell_type": "markdown",
   "metadata": {
    "cell_id": "00050-8314fe9c-47b8-4a33-9b83-d9db8fbf4493",
    "deepnote_cell_type": "markdown",
    "id": "TJJGaNdvEENJ",
    "tags": []
   },
   "source": [
    "Define a variable with your name. Write a loop that prints each letter of your name without using the range() function."
   ]
  },
  {
   "cell_type": "code",
   "execution_count": 10,
   "metadata": {
    "id": "QPohPqcM372g"
   },
   "outputs": [
    {
     "name": "stdout",
     "output_type": "stream",
     "text": [
      "j\n",
      "a\n",
      "y\n",
      "e\n",
      "s\n",
      "h\n"
     ]
    }
   ],
   "source": [
    "nom='jayesh'\n",
    "for i in nom:\n",
    "    print(i)"
   ]
  },
  {
   "cell_type": "markdown",
   "metadata": {
    "id": "hf2S3Bia38Cr"
   },
   "source": [
    "### Exercise 2\n",
    "Write a loop that prints each letter of your name, this time using the range() function"
   ]
  },
  {
   "cell_type": "code",
   "execution_count": 11,
   "metadata": {
    "id": "dA-4d8HT4Ivc"
   },
   "outputs": [
    {
     "name": "stdout",
     "output_type": "stream",
     "text": [
      "j\n",
      "a\n",
      "y\n",
      "e\n",
      "s\n",
      "h\n"
     ]
    }
   ],
   "source": [
    "for i in range(len(nom)):\n",
    "    print(nom[i])"
   ]
  },
  {
   "cell_type": "markdown",
   "metadata": {
    "id": "uifnAoMY4JFi"
   },
   "source": [
    "### Exercise 3\n",
    "Write a loop that prints n times each letter of your name, with n being the position of your letter in your name.    \n",
    "Example:  \n",
    "C  \n",
    "AA  \n",
    "MMM  \n",
    "IIII  \n",
    "LLLLL  \n",
    "LLLLLL  \n",
    "EEEEEEE "
   ]
  },
  {
   "cell_type": "code",
   "execution_count": 13,
   "metadata": {
    "id": "TuUoXBqk4lvB"
   },
   "outputs": [
    {
     "name": "stdout",
     "output_type": "stream",
     "text": [
      "j\n",
      "aa\n",
      "yyy\n",
      "eeee\n",
      "sssss\n",
      "hhhhhh\n"
     ]
    }
   ],
   "source": [
    "for i in range(len(nom)):\n",
    "    print((i+1)*nom[i])"
   ]
  },
  {
   "cell_type": "markdown",
   "metadata": {
    "id": "G1UIuIlH4mDR"
   },
   "source": [
    "### Exercise 4\n",
    "Write a loop and print: on even indexes, the letter of your name, and on odd indexes, the index number.    \n",
    "Example:  \n",
    "C  \n",
    "1  \n",
    "M  \n",
    "3  \n",
    "L  \n",
    "5  \n",
    "E\n"
   ]
  },
  {
   "cell_type": "code",
   "execution_count": 15,
   "metadata": {
    "id": "uG7-qcmx5Jbr"
   },
   "outputs": [
    {
     "name": "stdout",
     "output_type": "stream",
     "text": [
      "j\n",
      "1\n",
      "y\n",
      "3\n",
      "s\n",
      "5\n"
     ]
    }
   ],
   "source": [
    "for i in nom:\n",
    "    if nom.index(i)%2==0:\n",
    "        print(i)\n",
    "    else:\n",
    "        print(nom.index(i))"
   ]
  },
  {
   "cell_type": "markdown",
   "metadata": {
    "id": "29dG01Yl5JxS"
   },
   "source": [
    "### Exercise 5\n",
    "Write a loop on your name and add each of the letters to a list, then print the list.   \n",
    "Example: `['C', 'A', 'M', 'I', 'L', 'L', 'E']`"
   ]
  },
  {
   "cell_type": "code",
   "execution_count": 31,
   "metadata": {
    "id": "Um4LKBTR5cTd"
   },
   "outputs": [
    {
     "name": "stdout",
     "output_type": "stream",
     "text": [
      "['J', 'A', 'Y', 'E', 'S', 'H']\n"
     ]
    }
   ],
   "source": [
    "l=[]\n",
    "for i in nom:\n",
    "    l.append(i.upper())\n",
    "print(l)"
   ]
  },
  {
   "cell_type": "markdown",
   "metadata": {
    "id": "uEnhyoC55n-T"
   },
   "source": [
    "### Exercise 6\n",
    "Write a loop on your name and add all sliding pairs of your name to a list, then print the list.            \n",
    "Example: `['CA', 'AM', 'MI', 'IL', 'LL', 'LE']`"
   ]
  },
  {
   "cell_type": "code",
   "execution_count": 45,
   "metadata": {
    "id": "ijd0V8hf6aoK"
   },
   "outputs": [
    {
     "name": "stdout",
     "output_type": "stream",
     "text": [
      "['JA', 'AY', 'YE', 'ES', 'SH']\n"
     ]
    }
   ],
   "source": [
    "l1=[]\n",
    "for i in range(len(nom)-1):\n",
    "    l1.append(nom[i:(i+2)].upper())\n",
    "print(l1)"
   ]
  },
  {
   "cell_type": "markdown",
   "metadata": {
    "id": "EN1fArTW6bQl"
   },
   "source": [
    "### Exercise 7\n",
    "From a string, output a unique list of all the characters appearing in the string.     \n",
    "Input: `Camillelleeaa`.   \n",
    "Output: `['C', 'a', 'm', 'i', 'l', 'e']` "
   ]
  },
  {
   "cell_type": "code",
   "execution_count": 21,
   "metadata": {
    "id": "O-utImAm7U2J"
   },
   "outputs": [
    {
     "name": "stdout",
     "output_type": "stream",
     "text": [
      "['c', 'a', 'm', 'i', 'l', 'e']\n"
     ]
    }
   ],
   "source": [
    "input='camillelleeaa'\n",
    "output=[]\n",
    "for i in input:\n",
    "    if i not in output:\n",
    "        output.append(i)\n",
    "print(output)"
   ]
  },
  {
   "cell_type": "markdown",
   "metadata": {
    "id": "GKU9aTFr7VW3"
   },
   "source": [
    "### Exercise 8\n",
    "From a string containing consecutive double letters, write a string that outputs the string with simple letters instead of double ones.     \n",
    "Input: `Camillelleeaa`.  \n",
    "Output: `\"Camilelea\"`"
   ]
  },
  {
   "cell_type": "code",
   "execution_count": 46,
   "metadata": {
    "id": "I48QZp7F8FMi"
   },
   "outputs": [
    {
     "name": "stdout",
     "output_type": "stream",
     "text": [
      "camilelea\n"
     ]
    }
   ],
   "source": [
    "name=\"ccamillelleeaa\"\n",
    "out=name[0]\n",
    "for i in range(1,len(name)):\n",
    "    if name[i-1]!=name[i]:\n",
    "        out+=name[i]\n",
    "print(out)"
   ]
  },
  {
   "cell_type": "markdown",
   "metadata": {
    "id": "E3L92NqE8FzI"
   },
   "source": [
    "### Exercise 9\n",
    "Given two strings of the same size, write a script that outputs a list with: letters from the first sting on odd indexes and letters from the second string on even indexes.   \n",
    "Input:    \n",
    "`listOne = \"AGBABFDX\"`  \n",
    "`listTwo = \"BOUTQAMP\"`  \n",
    "Output:   \n",
    "`['B', 'G', 'U', 'A', 'Q', 'F', 'M', 'X']`"
   ]
  },
  {
   "cell_type": "code",
   "execution_count": 20,
   "metadata": {
    "id": "WUOUa1TF9GV1"
   },
   "outputs": [
    {
     "name": "stdout",
     "output_type": "stream",
     "text": [
      "['B', 'G', 'U', 'A', 'Q', 'F', 'M', 'X']\n"
     ]
    }
   ],
   "source": [
    "list1=\"AGBABFDX\"\n",
    "list2=\"BOUTQAMP\"\n",
    "l3=[]\n",
    "for i in range(len(list1)):\n",
    "    if i%2==0:\n",
    "        l3.append(list2[i])\n",
    "    else:\n",
    "        l3.append(list1[i])\n",
    "print(l3)\n",
    "        "
   ]
  },
  {
   "cell_type": "markdown",
   "metadata": {
    "id": "RAhEfe-89GxR"
   },
   "source": [
    "### Exercise 10\n",
    "Write a script to supress the nth character of a non empty string."
   ]
  },
  {
   "cell_type": "code",
   "execution_count": 47,
   "metadata": {
    "id": "6knt2zT_9Rqh"
   },
   "outputs": [
    {
     "name": "stdout",
     "output_type": "stream",
     "text": [
      "helo\n"
     ]
    }
   ],
   "source": [
    "sent=\"hello\"\n",
    "n=2\n",
    "out=\"\"\n",
    "for i in range(len(sent)):\n",
    "    if i==n:\n",
    "        continue\n",
    "    else:\n",
    "        out+=sent[i]\n",
    "print(out)"
   ]
  },
  {
   "cell_type": "code",
   "execution_count": null,
   "metadata": {},
   "outputs": [],
   "source": []
  }
 ],
 "metadata": {
  "colab": {
   "provenance": [],
   "toc_visible": true
  },
  "deepnote": {
   "is_reactive": false
  },
  "deepnote_execution_queue": [],
  "deepnote_notebook_id": "1eb0984d-4de5-41ce-8134-d5a5c45493e3",
  "kernelspec": {
   "display_name": "Python 3 (ipykernel)",
   "language": "python",
   "name": "python3"
  },
  "language_info": {
   "codemirror_mode": {
    "name": "ipython",
    "version": 3
   },
   "file_extension": ".py",
   "mimetype": "text/x-python",
   "name": "python",
   "nbconvert_exporter": "python",
   "pygments_lexer": "ipython3",
   "version": "3.10.6"
  }
 },
 "nbformat": 4,
 "nbformat_minor": 1
}
