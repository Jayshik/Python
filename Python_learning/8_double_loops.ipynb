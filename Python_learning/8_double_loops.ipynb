{
 "cells": [
  {
   "cell_type": "markdown",
   "metadata": {
    "cell_id": "00000-ad80f06d-3c8a-433c-8739-d0e690b9fa88",
    "deepnote_cell_type": "markdown",
    "id": "5mccmM1vmkHF",
    "tags": []
   },
   "source": [
    "# Class 8 - Loops in Loops in Loops ..."
   ]
  },
  {
   "cell_type": "markdown",
   "metadata": {
    "cell_id": "00001-e34e2e42-865b-4bfb-8bfd-ea091cccb1c0",
    "deepnote_cell_type": "markdown",
    "deepnote_to_be_reexecuted": false,
    "execution_millis": 10,
    "execution_start": 1628588180978,
    "id": "962IoZRkmkHK",
    "source_hash": "fe09b154",
    "tags": []
   },
   "source": [
    "Course objective:\n",
    "- To know how to use nested loops\n",
    "- Know how to do list comprehension (list compreshension)\n",
    "- Know how to use control statements in loops \n",
    "- Know how to combine the knowledge from previous classes to write simple scripts"
   ]
  },
  {
   "cell_type": "markdown",
   "metadata": {
    "cell_id": "00002-a2f36e0e-df09-442d-9efe-50c4848fd1d5",
    "deepnote_cell_type": "markdown",
    "id": "UywY2_tfmkHK",
    "tags": []
   },
   "source": [
    "## Nested Loops"
   ]
  },
  {
   "cell_type": "code",
   "execution_count": null,
   "metadata": {
    "cell_id": "00003-e3e808f7-2bf1-4d8e-81df-ce0439bd83f9",
    "colab": {
     "base_uri": "https://localhost:8080/"
    },
    "deepnote_cell_type": "code",
    "deepnote_to_be_reexecuted": false,
    "executionInfo": {
     "elapsed": 7,
     "status": "ok",
     "timestamp": 1632903947818,
     "user": {
      "displayName": "Camille D",
      "photoUrl": "https://lh3.googleusercontent.com/a/default-user=s64",
      "userId": "06661350414667447422"
     },
     "user_tz": -120
    },
    "execution_millis": 7,
    "execution_start": 1628598485062,
    "id": "QYt4sS8rmkHL",
    "outputId": "3626b7b4-080f-4daa-80ab-9bb67b809c1b",
    "source_hash": "660a4f41",
    "tags": []
   },
   "outputs": [
    {
     "name": "stdout",
     "output_type": "stream",
     "text": [
      "0 first loop\n",
      "0 second loop\n",
      "1 second loop\n",
      "\n",
      "\n",
      "1 first loop\n",
      "0 second loop\n",
      "1 second loop\n",
      "\n",
      "\n",
      "2 first loop\n",
      "0 second loop\n",
      "1 second loop\n",
      "\n",
      "\n",
      "3 first loop\n",
      "0 second loop\n",
      "1 second loop\n",
      "\n",
      "\n"
     ]
    }
   ],
   "source": [
    "for i in range(4):\n",
    "    print(i, \"first loop\")\n",
    "    for j in range(2):\n",
    "        print(j, \"second loop\")\n",
    "    print(\"\\n\")"
   ]
  },
  {
   "cell_type": "code",
   "execution_count": null,
   "metadata": {
    "cell_id": "00003-46dd5211-f162-4083-84a2-f9e2b29b7b5b",
    "colab": {
     "base_uri": "https://localhost:8080/"
    },
    "deepnote_cell_type": "code",
    "deepnote_to_be_reexecuted": false,
    "executionInfo": {
     "elapsed": 266,
     "status": "ok",
     "timestamp": 1632903987720,
     "user": {
      "displayName": "Camille D",
      "photoUrl": "https://lh3.googleusercontent.com/a/default-user=s64",
      "userId": "06661350414667447422"
     },
     "user_tz": -120
    },
    "execution_millis": 11,
    "execution_start": 1628598417495,
    "id": "xPvmmEohmkHO",
    "outputId": "5b5344c5-08f2-4a2c-bf51-238e67ce050f",
    "source_hash": "a2f2dd6c",
    "tags": []
   },
   "outputs": [
    {
     "name": "stdout",
     "output_type": "stream",
     "text": [
      "0 first loop\n",
      "0 second loop\n",
      "0 second loop\n",
      "\n",
      "\n",
      "1 first loop\n",
      "1 second loop\n",
      "1 second loop\n",
      "\n",
      "\n",
      "2 first loop\n",
      "2 second loop\n",
      "2 second loop\n",
      "\n",
      "\n",
      "3 first loop\n",
      "3 second loop\n",
      "3 second loop\n",
      "\n",
      "\n"
     ]
    }
   ],
   "source": [
    "for i in range(4):\n",
    "    print(i, \"first loop\")\n",
    "    for j in range(2):\n",
    "        print(i, \"second loop\")\n",
    "    print(\"\\n\")"
   ]
  },
  {
   "cell_type": "code",
   "execution_count": null,
   "metadata": {
    "cell_id": "00005-00628b41-0c48-475d-8973-1c68efb8b124",
    "colab": {
     "base_uri": "https://localhost:8080/"
    },
    "deepnote_cell_type": "code",
    "deepnote_to_be_reexecuted": false,
    "executionInfo": {
     "elapsed": 357,
     "status": "ok",
     "timestamp": 1632904054030,
     "user": {
      "displayName": "Camille D",
      "photoUrl": "https://lh3.googleusercontent.com/a/default-user=s64",
      "userId": "06661350414667447422"
     },
     "user_tz": -120
    },
    "execution_millis": 13,
    "execution_start": 1628598583116,
    "id": "9RMaEkbTmkHO",
    "outputId": "c0ad8e4b-9eff-4548-99f9-f72194f27034",
    "source_hash": "6b1dd998",
    "tags": []
   },
   "outputs": [
    {
     "name": "stdout",
     "output_type": "stream",
     "text": [
      "0 first loop\n",
      "0  second loop\n",
      "0    third loop\n",
      "1    third loop\n",
      "2    third loop\n",
      "3    third loop\n",
      "4    third loop\n",
      "5    third loop\n",
      "1  second loop\n",
      "0    third loop\n",
      "1    third loop\n",
      "2    third loop\n",
      "3    third loop\n",
      "4    third loop\n",
      "5    third loop\n",
      "\n",
      "\n",
      "1 first loop\n",
      "0  second loop\n",
      "0    third loop\n",
      "1    third loop\n",
      "2    third loop\n",
      "3    third loop\n",
      "4    third loop\n",
      "5    third loop\n",
      "1  second loop\n",
      "0    third loop\n",
      "1    third loop\n",
      "2    third loop\n",
      "3    third loop\n",
      "4    third loop\n",
      "5    third loop\n",
      "\n",
      "\n",
      "2 first loop\n",
      "0  second loop\n",
      "0    third loop\n",
      "1    third loop\n",
      "2    third loop\n",
      "3    third loop\n",
      "4    third loop\n",
      "5    third loop\n",
      "1  second loop\n",
      "0    third loop\n",
      "1    third loop\n",
      "2    third loop\n",
      "3    third loop\n",
      "4    third loop\n",
      "5    third loop\n",
      "\n",
      "\n",
      "3 first loop\n",
      "0  second loop\n",
      "0    third loop\n",
      "1    third loop\n",
      "2    third loop\n",
      "3    third loop\n",
      "4    third loop\n",
      "5    third loop\n",
      "1  second loop\n",
      "0    third loop\n",
      "1    third loop\n",
      "2    third loop\n",
      "3    third loop\n",
      "4    third loop\n",
      "5    third loop\n",
      "\n",
      "\n"
     ]
    }
   ],
   "source": [
    "for i in range(4):\n",
    "    print(i, \"first loop\")\n",
    "    for j in range(2):\n",
    "        print(j, \" second loop\")\n",
    "        for k in range(6):\n",
    "            print(k, \"   third loop\")\n",
    "    print(\"\\n\")"
   ]
  },
  {
   "cell_type": "markdown",
   "metadata": {
    "id": "DIip9jdKO1M6"
   },
   "source": [
    "## Questions"
   ]
  },
  {
   "cell_type": "code",
   "execution_count": 22,
   "metadata": {
    "colab": {
     "base_uri": "https://localhost:8080/"
    },
    "executionInfo": {
     "elapsed": 8,
     "status": "ok",
     "timestamp": 1673716065775,
     "user": {
      "displayName": "Camille D",
      "userId": "06661350414667447422"
     },
     "user_tz": -60
    },
    "id": "b_wQDRGQO247",
    "outputId": "3eb03e3f-e75f-4514-a9f9-052d9fa5520d"
   },
   "outputs": [
    {
     "name": "stdout",
     "output_type": "stream",
     "text": [
      "b\n",
      "b\n",
      "a\n",
      "b\n",
      "b\n",
      "a\n",
      "b\n",
      "b\n",
      "a\n"
     ]
    }
   ],
   "source": [
    "for a in range(3):\n",
    "    for b in range(2):\n",
    "        print('b')\n",
    "    print('a')"
   ]
  },
  {
   "cell_type": "code",
   "execution_count": 1,
   "metadata": {
    "colab": {
     "base_uri": "https://localhost:8080/"
    },
    "executionInfo": {
     "elapsed": 17,
     "status": "ok",
     "timestamp": 1673715790652,
     "user": {
      "displayName": "Camille D",
      "userId": "06661350414667447422"
     },
     "user_tz": -60
    },
    "id": "X3vgRUT7PAAn",
    "outputId": "85b82084-6f49-46a5-e7d3-0933af5cbe26"
   },
   "outputs": [
    {
     "name": "stdout",
     "output_type": "stream",
     "text": [
      "a\n",
      "a\n",
      "a\n",
      "a\n",
      "a\n"
     ]
    }
   ],
   "source": [
    "for a in range(5):\n",
    "    for b in range(0):\n",
    "        print('b')\n",
    "    print('a')"
   ]
  },
  {
   "cell_type": "code",
   "execution_count": 17,
   "metadata": {
    "colab": {
     "base_uri": "https://localhost:8080/"
    },
    "executionInfo": {
     "elapsed": 282,
     "status": "ok",
     "timestamp": 1673716015849,
     "user": {
      "displayName": "Camille D",
      "userId": "06661350414667447422"
     },
     "user_tz": -60
    },
    "id": "DUaBudfwPCKQ",
    "outputId": "8ea9d6ea-8c42-4535-cf9b-ba8195a4c741"
   },
   "outputs": [
    {
     "name": "stdout",
     "output_type": "stream",
     "text": [
      "9\n",
      "10\n",
      "11\n"
     ]
    }
   ],
   "source": [
    "for i in range(3):\n",
    "    num = i\n",
    "    for k in range(2,5):\n",
    "        num += k\n",
    "    print(num)"
   ]
  },
  {
   "cell_type": "code",
   "execution_count": 18,
   "metadata": {
    "colab": {
     "base_uri": "https://localhost:8080/"
    },
    "executionInfo": {
     "elapsed": 4,
     "status": "ok",
     "timestamp": 1673716017061,
     "user": {
      "displayName": "Camille D",
      "userId": "06661350414667447422"
     },
     "user_tz": -60
    },
    "id": "oBA_qqOpPfOp",
    "outputId": "bd1f5299-6f5b-419c-bead-28f8b234615f"
   },
   "outputs": [
    {
     "name": "stdout",
     "output_type": "stream",
     "text": [
      "11\n"
     ]
    }
   ],
   "source": [
    "for i in range(3):\n",
    "    num = i\n",
    "    for k in range(2,5):\n",
    "        num += k\n",
    "print(num)"
   ]
  },
  {
   "cell_type": "code",
   "execution_count": 21,
   "metadata": {
    "colab": {
     "base_uri": "https://localhost:8080/"
    },
    "executionInfo": {
     "elapsed": 5,
     "status": "ok",
     "timestamp": 1673716051222,
     "user": {
      "displayName": "Camille D",
      "userId": "06661350414667447422"
     },
     "user_tz": -60
    },
    "id": "ZurdxYMiP68y",
    "outputId": "8f282d8c-4058-4498-fd56-8d736b0a4a04"
   },
   "outputs": [
    {
     "name": "stdout",
     "output_type": "stream",
     "text": [
      "\n",
      "0\n",
      "\n",
      "0\n",
      "1\n",
      "\n",
      "0\n",
      "1\n",
      "2\n",
      "\n",
      "0\n",
      "1\n",
      "2\n",
      "3\n",
      "\n"
     ]
    }
   ],
   "source": [
    "for i in range(5):\n",
    "    for j in range(0,i):\n",
    "        print(j)\n",
    "    print()"
   ]
  },
  {
   "cell_type": "markdown",
   "metadata": {
    "cell_id": "00006-acf4abad-9860-407a-ba59-9d50eb2c06a7",
    "deepnote_cell_type": "markdown",
    "id": "4S_P35EZmkHP",
    "tags": []
   },
   "source": [
    "How can I display the multiplication table with a double loop in python?"
   ]
  },
  {
   "cell_type": "code",
   "execution_count": null,
   "metadata": {
    "cell_id": "00007-a3285564-d3c7-45ab-bd03-f79836c7c274",
    "colab": {
     "base_uri": "https://localhost:8080/"
    },
    "deepnote_cell_type": "code",
    "deepnote_to_be_reexecuted": false,
    "executionInfo": {
     "elapsed": 186,
     "status": "ok",
     "timestamp": 1632904494106,
     "user": {
      "displayName": "Camille D",
      "photoUrl": "https://lh3.googleusercontent.com/a/default-user=s64",
      "userId": "06661350414667447422"
     },
     "user_tz": -120
    },
    "execution_millis": 15,
    "execution_start": 1628601501741,
    "id": "slD__LGPmkHP",
    "outputId": "1163a98a-9e9a-4340-e5be-9772007b4c22",
    "source_hash": "9b3db20b",
    "tags": []
   },
   "outputs": [
    {
     "name": "stdout",
     "output_type": "stream",
     "text": [
      "1 2 3 4 5 6 7 8 9 10 \n",
      "2 4 6 8 10 12 14 16 18 20 \n",
      "3 6 9 12 15 18 21 24 27 30 \n",
      "4 8 12 16 20 24 28 32 36 40 \n",
      "5 10 15 20 25 30 35 40 45 50 \n",
      "6 12 18 24 30 36 42 48 54 60 \n",
      "7 14 21 28 35 42 49 56 63 70 \n",
      "8 16 24 32 40 48 56 64 72 80 \n",
      "9 18 27 36 45 54 63 72 81 90 \n",
      "10 20 30 40 50 60 70 80 90 100 \n"
     ]
    }
   ],
   "source": [
    "for i in range(1,11):\n",
    "    for j in range(1,11):\n",
    "        print(i * j, end=' ')\n",
    "    print()"
   ]
  },
  {
   "cell_type": "markdown",
   "metadata": {
    "cell_id": "00006-ce0a0b44-444e-420a-835b-33eae0b77d6f",
    "deepnote_cell_type": "markdown",
    "id": "w4Dz6gf3mkHQ",
    "tags": []
   },
   "source": [
    "## Control statements"
   ]
  },
  {
   "cell_type": "markdown",
   "metadata": {
    "cell_id": "00007-1d5faa79-6aca-4695-988d-30fe9b80998e",
    "deepnote_cell_type": "markdown",
    "id": "xSUZe2p4mkHR",
    "tags": []
   },
   "source": [
    "### Continue"
   ]
  },
  {
   "cell_type": "markdown",
   "metadata": {
    "cell_id": "00008-cca40615-534f-462a-9e11-976eb6fc52d2",
    "deepnote_cell_type": "markdown",
    "id": "54i6kbBtmkHR",
    "tags": []
   },
   "source": [
    "When the program encounters a continue statement, it will skip the statements which are present after the continue statement inside the loop and proceed with the next iterations."
   ]
  },
  {
   "cell_type": "code",
   "execution_count": null,
   "metadata": {
    "cell_id": "00008-2fe0379e-9663-4f7f-b126-21fe7c4d25c0",
    "colab": {
     "base_uri": "https://localhost:8080/"
    },
    "deepnote_cell_type": "code",
    "deepnote_to_be_reexecuted": false,
    "executionInfo": {
     "elapsed": 267,
     "status": "ok",
     "timestamp": 1632904570418,
     "user": {
      "displayName": "Camille D",
      "photoUrl": "https://lh3.googleusercontent.com/a/default-user=s64",
      "userId": "06661350414667447422"
     },
     "user_tz": -120
    },
    "execution_millis": 8,
    "execution_start": 1628601587205,
    "id": "rA8O96f9mkHR",
    "outputId": "487a5797-df50-4523-caf9-e70e12e62ee5",
    "source_hash": "5b368be4",
    "tags": []
   },
   "outputs": [
    {
     "name": "stdout",
     "output_type": "stream",
     "text": [
      "0\n",
      "1\n",
      "2\n",
      "3\n",
      "4\n",
      "6\n",
      "7\n",
      "8\n",
      "9\n"
     ]
    }
   ],
   "source": [
    "for i in range(10):\n",
    "    if i == 5:\n",
    "        continue\n",
    "    print(i)"
   ]
  },
  {
   "cell_type": "markdown",
   "metadata": {
    "cell_id": "00012-78f0b47d-04ba-46c9-92f5-edc018f672c7",
    "deepnote_cell_type": "markdown",
    "id": "ELAbr6dTmkHS",
    "tags": []
   },
   "source": [
    "### Break"
   ]
  },
  {
   "cell_type": "markdown",
   "metadata": {
    "cell_id": "00013-bb9ad96a-75b2-4bfa-a700-60a1509b466e",
    "deepnote_cell_type": "markdown",
    "id": "7C_5qDcpmkHS",
    "tags": []
   },
   "source": [
    "The break statement is used to terminate the loop containing it, the control of the program will come out of that loop."
   ]
  },
  {
   "cell_type": "code",
   "execution_count": null,
   "metadata": {
    "cell_id": "00014-b3ff29c6-ed95-4aea-b297-605759d0bfb3",
    "colab": {
     "base_uri": "https://localhost:8080/"
    },
    "deepnote_cell_type": "code",
    "deepnote_to_be_reexecuted": false,
    "executionInfo": {
     "elapsed": 206,
     "status": "ok",
     "timestamp": 1632904594439,
     "user": {
      "displayName": "Camille D",
      "photoUrl": "https://lh3.googleusercontent.com/a/default-user=s64",
      "userId": "06661350414667447422"
     },
     "user_tz": -120
    },
    "execution_millis": 6,
    "execution_start": 1628601812840,
    "id": "YqQpui1imkHT",
    "outputId": "1f928367-8897-47d5-abdd-fa5c42a74807",
    "source_hash": "481575f0",
    "tags": []
   },
   "outputs": [
    {
     "name": "stdout",
     "output_type": "stream",
     "text": [
      "0\n",
      "1\n",
      "2\n",
      "3\n",
      "4\n"
     ]
    }
   ],
   "source": [
    "for i in range(10):\n",
    "    if i == 5:\n",
    "        break\n",
    "    print(i)"
   ]
  },
  {
   "cell_type": "code",
   "execution_count": 26,
   "metadata": {
    "cell_id": "00015-faff2118-4f5a-4876-a9c8-625d247450a6",
    "colab": {
     "base_uri": "https://localhost:8080/"
    },
    "deepnote_cell_type": "code",
    "deepnote_to_be_reexecuted": false,
    "executionInfo": {
     "elapsed": 5,
     "status": "ok",
     "timestamp": 1673716435501,
     "user": {
      "displayName": "Camille D",
      "userId": "06661350414667447422"
     },
     "user_tz": -60
    },
    "execution_millis": 22,
    "execution_start": 1628601837777,
    "id": "a-6RpxaNmkHT",
    "outputId": "8edc88f0-ced6-4b83-a561-25eb272f43af",
    "source_hash": "9bbaccdc",
    "tags": []
   },
   "outputs": [
    {
     "name": "stdout",
     "output_type": "stream",
     "text": [
      "a\n",
      "b\n",
      "c\n",
      "d\n",
      "e\n",
      "f\n"
     ]
    }
   ],
   "source": [
    "for j in 'abcdef':\n",
    "    for i in range(10):\n",
    "        #print(i)\n",
    "        if i == 0:\n",
    "          break\n",
    "    print(j)\n",
    "    #break"
   ]
  },
  {
   "cell_type": "markdown",
   "metadata": {
    "cell_id": "00010-ac33ffea-393e-4196-8883-3160602a13ae",
    "deepnote_cell_type": "markdown",
    "id": "z5jqmAoTmkHU",
    "tags": []
   },
   "source": [
    "### Pass"
   ]
  },
  {
   "cell_type": "markdown",
   "metadata": {
    "cell_id": "00013-088ef6bd-f97d-4b21-bc9f-8e01671d4f49",
    "deepnote_cell_type": "markdown",
    "deepnote_to_be_reexecuted": false,
    "execution_millis": 18,
    "execution_start": 1628601645355,
    "id": "Nt8pbObHmkHV",
    "source_hash": "b1608b25",
    "tags": []
   },
   "source": [
    "Pass statement in python is a null operation, which is used when the statement is required syntactically."
   ]
  },
  {
   "cell_type": "code",
   "execution_count": null,
   "metadata": {
    "cell_id": "00014-d2eb5a86-f0d1-4469-adeb-472afae75cbd",
    "deepnote_cell_type": "code",
    "deepnote_to_be_reexecuted": false,
    "execution_millis": 9,
    "execution_start": 1628602818913,
    "id": "4_1Np48tmkHV",
    "outputId": "d1c324a6-b66d-4551-a870-da596d090ec3",
    "source_hash": "59d644ae",
    "tags": []
   },
   "outputs": [
    {
     "name": "stdout",
     "output_type": "stream",
     "text": [
      "0\n",
      "1\n",
      "2\n",
      "3\n",
      "4\n",
      "5\n",
      "6\n",
      "7\n",
      "8\n",
      "9\n"
     ]
    }
   ],
   "source": [
    "for i in range(10):\n",
    "    if i == 5:\n",
    "        pass\n",
    "    print(i)"
   ]
  },
  {
   "cell_type": "code",
   "execution_count": null,
   "metadata": {
    "cell_id": "00014-90b9bc0f-e85c-4188-8a02-d794953b9ae1",
    "deepnote_cell_type": "code",
    "deepnote_to_be_reexecuted": false,
    "execution_millis": 10,
    "execution_start": 1628602882527,
    "id": "uN3n5QAqmkHW",
    "outputId": "135b6962-ccaa-4549-efea-9b23058d591f",
    "source_hash": "9e3825e0",
    "tags": []
   },
   "outputs": [
    {
     "name": "stdout",
     "output_type": "stream",
     "text": [
      "0 This is not number 5\n",
      "1 This is not number 5\n",
      "2 This is not number 5\n",
      "3 This is not number 5\n",
      "4 This is not number 5\n",
      "6 This is not number 5\n",
      "7 This is not number 5\n",
      "8 This is not number 5\n",
      "9 This is not number 5\n"
     ]
    }
   ],
   "source": [
    "for i in range(10):\n",
    "    if i == 5:\n",
    "        pass\n",
    "    else:\n",
    "        print(i, \"This is not number 5\")"
   ]
  },
  {
   "cell_type": "markdown",
   "metadata": {
    "cell_id": "00011-9f952705-ce29-4173-82e9-af818a412c79",
    "deepnote_cell_type": "markdown",
    "id": "wEu3gsrqmkHW",
    "tags": []
   },
   "source": [
    "## List comprehension "
   ]
  },
  {
   "cell_type": "code",
   "execution_count": null,
   "metadata": {
    "cell_id": "00011-fb2e24ae-f96f-4b2d-94ce-838502411d05",
    "colab": {
     "base_uri": "https://localhost:8080/"
    },
    "deepnote_cell_type": "code",
    "deepnote_to_be_reexecuted": false,
    "executionInfo": {
     "elapsed": 217,
     "status": "ok",
     "timestamp": 1632905083198,
     "user": {
      "displayName": "Camille D",
      "photoUrl": "https://lh3.googleusercontent.com/a/default-user=s64",
      "userId": "06661350414667447422"
     },
     "user_tz": -120
    },
    "execution_millis": 8,
    "execution_start": 1628603068502,
    "id": "DZnTIlwrmkHW",
    "outputId": "a879375c-0c45-474f-8a88-8a7d32ffbc98",
    "source_hash": "8d280475",
    "tags": []
   },
   "outputs": [
    {
     "name": "stdout",
     "output_type": "stream",
     "text": [
      "[0, 1, 2, 3, 4, 5, 6, 7, 8, 9]\n"
     ]
    }
   ],
   "source": [
    "my_list = []\n",
    "\n",
    "for i in range(10):\n",
    "    my_list.append(i)\n",
    "\n",
    "print(my_list)"
   ]
  },
  {
   "cell_type": "code",
   "execution_count": null,
   "metadata": {
    "cell_id": "00022-fd34773d-bbfd-439d-abd9-31f75931ce24",
    "colab": {
     "base_uri": "https://localhost:8080/"
    },
    "deepnote_cell_type": "code",
    "deepnote_to_be_reexecuted": false,
    "executionInfo": {
     "elapsed": 206,
     "status": "ok",
     "timestamp": 1632905084334,
     "user": {
      "displayName": "Camille D",
      "photoUrl": "https://lh3.googleusercontent.com/a/default-user=s64",
      "userId": "06661350414667447422"
     },
     "user_tz": -120
    },
    "execution_millis": 6,
    "execution_start": 1628603032297,
    "id": "du_EA0CfmkHX",
    "outputId": "4e656a78-bd0e-4399-b282-dcbbf3f3d02e",
    "source_hash": "ee36d53a",
    "tags": []
   },
   "outputs": [
    {
     "data": {
      "text/plain": [
       "[0, 1, 2, 3, 4, 5, 6, 7, 8, 9]"
      ]
     },
     "execution_count": 21,
     "metadata": {},
     "output_type": "execute_result"
    }
   ],
   "source": [
    "my_list = [i for i in range(10)]\n",
    "my_list"
   ]
  },
  {
   "cell_type": "code",
   "execution_count": null,
   "metadata": {
    "cell_id": "00023-a24f8d85-4fa2-43be-945d-ec8ba53f7557",
    "colab": {
     "base_uri": "https://localhost:8080/"
    },
    "deepnote_cell_type": "code",
    "deepnote_to_be_reexecuted": false,
    "executionInfo": {
     "elapsed": 205,
     "status": "ok",
     "timestamp": 1632905147025,
     "user": {
      "displayName": "Camille D",
      "photoUrl": "https://lh3.googleusercontent.com/a/default-user=s64",
      "userId": "06661350414667447422"
     },
     "user_tz": -120
    },
    "execution_millis": 7,
    "execution_start": 1628603058242,
    "id": "7pgS_FrzmkHX",
    "outputId": "e0c1a608-a4f3-4918-cb74-224c04b5d5ef",
    "source_hash": "6310c50d",
    "tags": []
   },
   "outputs": [
    {
     "data": {
      "text/plain": [
       "[0, 0, 0, 0, 0, 0, 0, 0, 0, 0]"
      ]
     },
     "execution_count": 23,
     "metadata": {},
     "output_type": "execute_result"
    }
   ],
   "source": [
    "zero_list = [0 for i in range(10)]\n",
    "zero_list"
   ]
  },
  {
   "cell_type": "code",
   "execution_count": null,
   "metadata": {
    "cell_id": "00023-1f33f90e-0781-412f-b932-0b125698ec2f",
    "colab": {
     "base_uri": "https://localhost:8080/"
    },
    "deepnote_cell_type": "code",
    "deepnote_to_be_reexecuted": false,
    "executionInfo": {
     "elapsed": 188,
     "status": "ok",
     "timestamp": 1632905200372,
     "user": {
      "displayName": "Camille D",
      "photoUrl": "https://lh3.googleusercontent.com/a/default-user=s64",
      "userId": "06661350414667447422"
     },
     "user_tz": -120
    },
    "execution_millis": 6,
    "execution_start": 1628603080991,
    "id": "fQZvp0sXmkHY",
    "outputId": "c472584d-c3d3-4f45-889d-c031a01ecc2e",
    "source_hash": "d86eb783",
    "tags": []
   },
   "outputs": [
    {
     "data": {
      "text/plain": [
       "[0, 0, 0, 0, 0, 0, 0, 0, 0, 0]"
      ]
     },
     "execution_count": 24,
     "metadata": {},
     "output_type": "execute_result"
    }
   ],
   "source": [
    "zero_list = [0 for _ in range(10)]\n",
    "zero_list"
   ]
  },
  {
   "cell_type": "code",
   "execution_count": null,
   "metadata": {
    "cell_id": "00025-0086a59d-09be-4e4c-9e0d-deb305e6c3d4",
    "colab": {
     "base_uri": "https://localhost:8080/"
    },
    "deepnote_cell_type": "code",
    "deepnote_to_be_reexecuted": false,
    "executionInfo": {
     "elapsed": 213,
     "status": "ok",
     "timestamp": 1632905234669,
     "user": {
      "displayName": "Camille D",
      "photoUrl": "https://lh3.googleusercontent.com/a/default-user=s64",
      "userId": "06661350414667447422"
     },
     "user_tz": -120
    },
    "execution_millis": 6,
    "execution_start": 1628603170639,
    "id": "QGfamrb_mkHY",
    "outputId": "11877a37-5cac-402d-80e4-dddbfd8e9967",
    "source_hash": "9dff98e0",
    "tags": []
   },
   "outputs": [
    {
     "data": {
      "text/plain": [
       "[[0, 1, 2, 3, 4, 5, 6, 7, 8, 9],\n",
       " [0, 1, 2, 3, 4, 5, 6, 7, 8, 9],\n",
       " [0, 1, 2, 3, 4, 5, 6, 7, 8, 9],\n",
       " [0, 1, 2, 3, 4, 5, 6, 7, 8, 9],\n",
       " [0, 1, 2, 3, 4, 5, 6, 7, 8, 9],\n",
       " [0, 1, 2, 3, 4, 5, 6, 7, 8, 9],\n",
       " [0, 1, 2, 3, 4, 5, 6, 7, 8, 9],\n",
       " [0, 1, 2, 3, 4, 5, 6, 7, 8, 9],\n",
       " [0, 1, 2, 3, 4, 5, 6, 7, 8, 9],\n",
       " [0, 1, 2, 3, 4, 5, 6, 7, 8, 9]]"
      ]
     },
     "execution_count": 25,
     "metadata": {},
     "output_type": "execute_result"
    }
   ],
   "source": [
    "double_list = [[i for i in range(10)] for _ in range(10)]\n",
    "double_list"
   ]
  },
  {
   "cell_type": "markdown",
   "metadata": {
    "cell_id": "00010-2c64eda3-2ced-4aa2-bbe4-41eb396ce48d",
    "deepnote_cell_type": "markdown",
    "id": "L0hhKq1RmkHZ",
    "tags": []
   },
   "source": [
    "## Exercices "
   ]
  },
  {
   "cell_type": "markdown",
   "metadata": {
    "cell_id": "00027-72ac54ad-cccd-43ea-8f0d-34362a4092d9",
    "deepnote_cell_type": "markdown",
    "id": "BCIsOe6pmkHZ",
    "tags": []
   },
   "source": [
    "### Exercice 1"
   ]
  },
  {
   "cell_type": "markdown",
   "metadata": {
    "cell_id": "00012-efeb3c22-21ac-46b5-88ca-9f8b7bac591d",
    "deepnote_cell_type": "markdown",
    "deepnote_to_be_reexecuted": false,
    "execution_millis": 14,
    "execution_start": 1628605270355,
    "id": "nzcIoR-cmkHa",
    "source_hash": "4d0a8176",
    "tags": []
   },
   "source": [
    "Write a script with a double loop to draw the following drawing:    \n",
    "AAAAAAA      \n",
    "AAAAAA  \n",
    "AAAAA  \n",
    "AAAA  \n",
    "AAA  \n",
    "AA  \n",
    "A        "
   ]
  },
  {
   "cell_type": "code",
   "execution_count": null,
   "metadata": {
    "cell_id": "00030-3efee4ca-0a9d-4cc0-a2e7-f7ead7638fe7",
    "deepnote_cell_type": "code",
    "id": "4mtkE6MqmkHa",
    "tags": []
   },
   "outputs": [],
   "source": [
    "#Your code"
   ]
  },
  {
   "cell_type": "markdown",
   "metadata": {
    "cell_id": "00031-d9cc70c6-0aea-4ad5-8664-fa6b0b5e52d7",
    "deepnote_cell_type": "markdown",
    "id": "u9hrBfAQmkHa",
    "tags": []
   },
   "source": [
    "### Exercice 2\n",
    "Create a matrix (= double list) of size 10x10, with only 0 as elements, using list comprehensions."
   ]
  },
  {
   "cell_type": "code",
   "execution_count": null,
   "metadata": {
    "cell_id": "00032-58665d1a-725c-464b-a6fc-ddc3a98856ed",
    "deepnote_cell_type": "code",
    "id": "-NUDB9GRmkHb",
    "tags": []
   },
   "outputs": [],
   "source": [
    "#Your code"
   ]
  },
  {
   "cell_type": "markdown",
   "metadata": {
    "cell_id": "00034-c703baab-f0c7-4ae1-a5ab-aec01cec0f01",
    "deepnote_cell_type": "markdown",
    "id": "zFzZMBBPmkHe",
    "tags": []
   },
   "source": [
    "### Exercice 3\n",
    "In the matrix created in the previous exercise, replace the elements on the diagonal with 1."
   ]
  },
  {
   "cell_type": "code",
   "execution_count": null,
   "metadata": {
    "cell_id": "00036-aeae296c-a2f4-4eca-b357-0bcf26329c77",
    "deepnote_cell_type": "code",
    "id": "ZuQyXU92mkHh",
    "tags": []
   },
   "outputs": [],
   "source": [
    "#Your code"
   ]
  },
  {
   "cell_type": "markdown",
   "metadata": {
    "cell_id": "00037-293c04c1-9380-4781-940b-5d470b205772",
    "deepnote_cell_type": "markdown",
    "id": "rl0EFF1AmkHh",
    "tags": []
   },
   "source": [
    "### Exercice 4"
   ]
  },
  {
   "cell_type": "markdown",
   "metadata": {
    "cell_id": "00038-da0dcbdc-2cdd-41bd-8895-07e366ae8ab5",
    "deepnote_cell_type": "markdown",
    "id": "CmwgDXHRmkHi",
    "tags": []
   },
   "source": [
    "With the following list of people, display all possible different pairings."
   ]
  },
  {
   "cell_type": "code",
   "execution_count": null,
   "metadata": {
    "cell_id": "00039-84e8b0d5-5f76-4b51-9b47-431882986946",
    "deepnote_cell_type": "code",
    "id": "4Q4_8z0SmkHi",
    "tags": []
   },
   "outputs": [],
   "source": [
    "people = ['Lisa', 'Jules', 'Mark', 'Gwendolinne', 'Erwann', 'Anatole']"
   ]
  },
  {
   "cell_type": "code",
   "execution_count": null,
   "metadata": {
    "cell_id": "00039-371dcdbc-a3f4-40f2-8dd2-f1f0b86930c3",
    "deepnote_cell_type": "code",
    "id": "Z086YECnmkHi",
    "tags": []
   },
   "outputs": [],
   "source": [
    "#Your code"
   ]
  },
  {
   "cell_type": "markdown",
   "metadata": {
    "cell_id": "00040-9a9f01b5-248a-444a-9279-fe7e5c32143a",
    "deepnote_cell_type": "markdown",
    "id": "SEB8n6SLmkHj",
    "tags": []
   },
   "source": [
    "### Exercice 5 "
   ]
  },
  {
   "cell_type": "markdown",
   "metadata": {
    "cell_id": "00042-ba154e74-e66e-44f7-916f-919aa5daaee2",
    "deepnote_cell_type": "markdown",
    "id": "dGGCAMKOmkHj",
    "tags": []
   },
   "source": [
    "You have a list of numbers. Write a script that gives you a list of these numbers but with the digits in reverse. For example 123 becomes 321. You should use nested loops."
   ]
  },
  {
   "cell_type": "code",
   "execution_count": null,
   "metadata": {
    "cell_id": "00013-6ec530c6-6607-4139-ac84-f01f75c932b0",
    "deepnote_cell_type": "code",
    "id": "OcYZsMmAmkHk",
    "tags": []
   },
   "outputs": [],
   "source": [
    "numbers = [358, 67901, 4, -256, 10927256718, 75000, 347, 9173]"
   ]
  },
  {
   "cell_type": "code",
   "execution_count": null,
   "metadata": {
    "cell_id": "00013-36d92aa6-7e49-402d-9921-c049bb5a1976",
    "deepnote_cell_type": "code",
    "id": "T66Dr8JLmkHk",
    "tags": []
   },
   "outputs": [],
   "source": [
    "#Your code"
   ]
  },
  {
   "cell_type": "markdown",
   "metadata": {
    "cell_id": "00016-fe01a22b-17fc-485f-9fe2-29956116c9b6",
    "deepnote_cell_type": "markdown",
    "id": "weEoZBAUmkHl",
    "tags": []
   },
   "source": [
    "### Exercice 6\n",
    "Compute the sum of the two following 2 matrices using nested loops. The output should be a matrice."
   ]
  },
  {
   "cell_type": "code",
   "execution_count": null,
   "metadata": {
    "cell_id": "00046-0c5cc5be-098e-4058-a7c4-56726061cb14",
    "deepnote_cell_type": "code",
    "id": "Chux5nWbmkHl",
    "tags": []
   },
   "outputs": [],
   "source": [
    "matrice1 = [[1,2,3], [4,5,6], [7,8,9]]\n",
    "matrice2 = [[9,7,3], [1,2,6], [4,8,5]]"
   ]
  },
  {
   "cell_type": "code",
   "execution_count": null,
   "metadata": {
    "cell_id": "00047-aa9e0672-85ef-40b8-bb28-4d8d7a70c4b6",
    "deepnote_cell_type": "code",
    "id": "rXJNAqjhmkHl",
    "tags": []
   },
   "outputs": [],
   "source": []
  },
  {
   "cell_type": "markdown",
   "metadata": {
    "id": "WYoH9OdEoq_S"
   },
   "source": [
    "### Exercise 7\n",
    "Compute the multiplication of the two following 2 matrices using nested loops. The output should be a matrice.  \n",
    "If you want to freshen up about matrice multiplication: https://mathsisfun.com/algebra/matrix-multiplying.html"
   ]
  },
  {
   "cell_type": "code",
   "execution_count": null,
   "metadata": {
    "cell_id": "00048-bee6e2c5-11d4-4ba5-b855-aec51cca9b09",
    "deepnote_cell_type": "code",
    "id": "1CTFN4JsmkHl",
    "tags": []
   },
   "outputs": [],
   "source": [
    "matrice1 = [[1,2,3], [4,5,6], [7,8,9]]\n",
    "matrice2 = [[9,7,3], [1,2,6], [4,8,5]]\n",
    "#Expected output: [[23,35,30], [65,86,72], [107, 137, 114]]"
   ]
  },
  {
   "cell_type": "code",
   "execution_count": null,
   "metadata": {
    "id": "PCVHyFKDpUIm"
   },
   "outputs": [],
   "source": []
  },
  {
   "cell_type": "markdown",
   "metadata": {
    "id": "gbPjziuIo28c"
   },
   "source": [
    "### Exercise 8\n",
    "Iterate on the following list of DNA strands and output a list with the length of each strand without using the len() function. You should use nested loops"
   ]
  },
  {
   "cell_type": "code",
   "execution_count": null,
   "metadata": {
    "id": "sXupeIersshf"
   },
   "outputs": [],
   "source": [
    "dna_strands = [\"TCGTGCAGAGACATAGATACATACAGATATATAGAGTGATACGTGTCGTACGTAGTACGATGACAGATGA\", \"CGATGTTGATACATACAGACTAGATCAGATTTACAGATAGACGTGATATAGACTAGATC\", \"GTGATAGATACATATATATATAGACAGCAGCAGTGCGCTGAC\", \"TGATGTACAGCGCGCGATGTGTGAGCGCATATAACAGACAGATGACATATATACAGATAATATTTAGATGCAGATTAGTTGACAGTTTGACAGTAGATAGGGTA\", \"GGACGGCAGCGATGTGCCGCCCACACCCGGGATGT\"]\n",
    "#Expected output: [70, 59, 42, 104, 35]"
   ]
  },
  {
   "cell_type": "code",
   "execution_count": null,
   "metadata": {
    "id": "IvlzV0XOpTEq"
   },
   "outputs": [],
   "source": []
  },
  {
   "cell_type": "markdown",
   "metadata": {
    "id": "TTOoZ0n-rlUX"
   },
   "source": [
    "### Exercise 9\n",
    "Iterate on the following list of lists of numbers and output a list of the sum of the numbers in each list. You are not allowed to use sum(). You should use nested loops"
   ]
  },
  {
   "cell_type": "code",
   "execution_count": null,
   "metadata": {
    "id": "0lJ7GZqFpTWX"
   },
   "outputs": [],
   "source": [
    "my_list = [[1,89, 4, 22, 97, 0], [2, 3], [ 2 ,56, 925, 187, 267, 12, 31], [8, 5, 2, 4, 9, 1, 5, 3, 2]]\n",
    "#Expected output: [213, 5, 1480, 39]"
   ]
  },
  {
   "cell_type": "code",
   "execution_count": null,
   "metadata": {
    "id": "HiDgmTAwtBz-"
   },
   "outputs": [],
   "source": []
  },
  {
   "cell_type": "markdown",
   "metadata": {
    "id": "Cs0c2BdEuGez"
   },
   "source": [
    "### Exercise 10\n",
    "Write a program that computes the sum of all numbers in the following list."
   ]
  },
  {
   "cell_type": "code",
   "execution_count": null,
   "metadata": {
    "id": "jab8VqpiuTL8"
   },
   "outputs": [],
   "source": [
    "my_list = [[1,2,3], 6, [7, 8, [2, 5, 7], 9], [2, 7, 8], 9, 1, 2,]\n",
    "#Expected output: 79"
   ]
  },
  {
   "cell_type": "code",
   "execution_count": null,
   "metadata": {
    "id": "3oEClEUmuTYK"
   },
   "outputs": [],
   "source": []
  },
  {
   "cell_type": "markdown",
   "metadata": {
    "id": "WT8U1M-StCtn"
   },
   "source": [
    "### Exercise 11\n",
    "Write a program that for a lists of lists of number, for each number at the same index, sums each of those elements together. The output should be a list."
   ]
  },
  {
   "cell_type": "code",
   "execution_count": null,
   "metadata": {
    "id": "TmvzdqqxtY4v"
   },
   "outputs": [],
   "source": [
    "my_list = [[1,2,3], [4,5,6], [7,8,9], [10,11,12]]\n",
    "#For example the calculation should be [1+4+7+10, 2+5+8+11, 3+6+9+12] and the output should be [22,26,30]"
   ]
  },
  {
   "cell_type": "code",
   "execution_count": null,
   "metadata": {
    "id": "j-xKGLxotY_G"
   },
   "outputs": [],
   "source": []
  },
  {
   "cell_type": "markdown",
   "metadata": {
    "id": "ZDMIOZ2et4yq"
   },
   "source": [
    "### Exercise 12\n",
    "Write a program that computes the hamming distance between 2 words. The hamming distance is the number of differences for two strings of the same length.  \n",
    "Example:    \n",
    "first_string = \"abc\"    \n",
    "second_string = \"abd\"   \n",
    "a = a so there is no difference  \n",
    "b = b so there is no difference    \n",
    "c != d so there is a difference.  \n",
    "In total there is one difference so the hamming distance is 1.\n",
    "\n",
    "\n",
    "\n"
   ]
  },
  {
   "cell_type": "code",
   "execution_count": null,
   "metadata": {
    "id": "UmWcFV02uDy2"
   },
   "outputs": [],
   "source": [
    "mot = \"four\"\n",
    "liste_mots = [\"fond\", \"gond\", \"foin\", \"flou\", \"fuir\", \"emir\", \"etre\"]"
   ]
  },
  {
   "cell_type": "code",
   "execution_count": null,
   "metadata": {
    "id": "ASRNSObySA1d"
   },
   "outputs": [],
   "source": []
  }
 ],
 "metadata": {
  "colab": {
   "provenance": []
  },
  "deepnote": {
   "is_reactive": false
  },
  "deepnote_execution_queue": [],
  "deepnote_notebook_id": "6c2cafc7-203c-4ef0-92df-1ae2d6e382cd",
  "kernelspec": {
   "display_name": "Python 3 (ipykernel)",
   "language": "python",
   "name": "python3"
  },
  "language_info": {
   "codemirror_mode": {
    "name": "ipython",
    "version": 3
   },
   "file_extension": ".py",
   "mimetype": "text/x-python",
   "name": "python",
   "nbconvert_exporter": "python",
   "pygments_lexer": "ipython3",
   "version": "3.10.6"
  }
 },
 "nbformat": 4,
 "nbformat_minor": 1
}
