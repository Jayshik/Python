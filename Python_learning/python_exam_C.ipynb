{
 "cells": [
  {
   "cell_type": "markdown",
   "id": "340b6aa0",
   "metadata": {
    "deletable": false,
    "editable": false,
    "nbgrader": {
     "cell_type": "markdown",
     "checksum": "ff1493741d569c8a29e237b01e1b5d3a",
     "grade": false,
     "grade_id": "cell-08f9c8e59fbf7460",
     "locked": true,
     "schema_version": 3,
     "solution": false,
     "task": false
    }
   },
   "source": [
    "# Python Final Exam\n",
    "Epita international masters - Fall 2022 - Duquesne"
   ]
  },
  {
   "cell_type": "markdown",
   "id": "b739a2ed",
   "metadata": {
    "deletable": false,
    "editable": false,
    "nbgrader": {
     "cell_type": "markdown",
     "checksum": "14068531f3e16d456fc973c153066fb8",
     "grade": false,
     "grade_id": "cell-bea2e2f12247d2e0",
     "locked": true,
     "schema_version": 3,
     "solution": false,
     "task": false
    }
   },
   "source": [
    "* All the exercices are going to be graded automatically.\n",
    "* Remember to fill in your name correctly.\n",
    "* If you delete cells that are commented as #Do not delete the automatic grading will directly award no points for that exercise.\n",
    "* Don't forget to remove raise NotImplementedError() if you code a solution for a function.\n",
    "* Automatic plagiarism will also be run on your notebook.\n",
    "* As in any academic context, you should cite your sources and collaborators.\n",
    "* Only built-in python modules are allowed: https://docs.python.org/3/py-modindex.html"
   ]
  },
  {
   "cell_type": "markdown",
   "id": "937f6f3c",
   "metadata": {
    "deletable": false,
    "editable": false,
    "nbgrader": {
     "cell_type": "markdown",
     "checksum": "79ca40d54c20db7ab378b99c1a2c46c5",
     "grade": false,
     "grade_id": "cell-a7fd3ab2ca8efc50",
     "locked": true,
     "schema_version": 3,
     "solution": false,
     "task": false
    }
   },
   "source": [
    "**Duration of the exam is 1 hour 30.**\n",
    "\n",
    "**Access to the internet and class materials are allowed**\n",
    "\n",
    "**Discussion between peers is prohibited**"
   ]
  },
  {
   "cell_type": "code",
   "execution_count": null,
   "id": "17ca6c52",
   "metadata": {},
   "outputs": [],
   "source": [
    "#Do not delete\n",
    "name = \"\"\n",
    "sources = \"\"\"\"\"\"\n",
    "collaborators = \"\""
   ]
  },
  {
   "cell_type": "markdown",
   "id": "c6464227",
   "metadata": {
    "deletable": false,
    "editable": false,
    "nbgrader": {
     "cell_type": "markdown",
     "checksum": "83d40209b7aec24d3abbf6830e244e14",
     "grade": false,
     "grade_id": "cell-07fbbda5437e2b5a",
     "locked": true,
     "schema_version": 3,
     "solution": false,
     "task": false
    }
   },
   "source": [
    "## Exercise 1 (3 points)\n",
    "A company has it's employees data formatted in a list of tuples. A tuple conists of the first name, the last name and the age of the person.\n",
    "For example:\n",
    "`[('Leo', 'Vernel', 38), ('Marjane', 'Nguyen', 23), ('Abigail', 'Deemle', 23)]`\n",
    "\n",
    "The boss wants us to code a function `make_banner()` that will take the list of tuples as input and format a nice string so we can print it out and make a banner to congratulate our employees. The names should appear depending on the age, youngest to oldest and if we have people of the same age then their names should be sorted alphabetically. The final list of sorted names should be seperated with a `' - '` between them.\n",
    "\n",
    "With our previous list of tuples tuple we would have as output string:\n",
    "\n",
    "`Abigail - Marjane - Leo`\n",
    "\n",
    "Abigail and Marjane are the youngest so they appear first. They are both 23 so we sort their names alphabetically. Leo is older so he appears after."
   ]
  },
  {
   "cell_type": "code",
   "execution_count": 166,
   "id": "4cf80e08",
   "metadata": {
    "deletable": false,
    "nbgrader": {
     "cell_type": "code",
     "checksum": "37e89eb9b12bd88f7751b37169c0b3ed",
     "grade": false,
     "grade_id": "cell-4b6c0ac771f428af",
     "locked": false,
     "schema_version": 3,
     "solution": true,
     "task": false
    }
   },
   "outputs": [],
   "source": [
    "#Do not delete\n",
    "def make_banner(employees: list) -> str:\n",
    "    \"\"\"\n",
    "    Takes list of tuples of employee names and ages and formats a banner\n",
    "    with names sorted depending on the age first and alphabetically \n",
    "    second, if ages are equivalent.\n",
    "    \n",
    "    #######\n",
    "    input: employees (list)\n",
    "    output: banner (str)\n",
    "    #######\n",
    "    \"\"\"\n",
    "    # YOUR CODE HERE\n",
    "    employees.sort(key=lambda x: (x[2], x[0]))\n",
    "    return ' - '.join([f\"{first}\" for first, last, age in employees])\n",
    "        \n",
    "    "
   ]
  },
  {
   "cell_type": "code",
   "execution_count": 167,
   "id": "5ea30c30",
   "metadata": {},
   "outputs": [
    {
     "name": "stdout",
     "output_type": "stream",
     "text": [
      "Abigail - Marjane - Leo\n"
     ]
    }
   ],
   "source": [
    "employees = [('Leo', 'Vernel', 38), ('Marjane', 'Nguyen', 23), ('Abigail', 'Deemle', 23)]\n",
    "\n",
    "print(make_banner(employees))"
   ]
  },
  {
   "cell_type": "code",
   "execution_count": 168,
   "id": "fb0ccfaa",
   "metadata": {
    "deletable": false,
    "editable": false,
    "nbgrader": {
     "cell_type": "code",
     "checksum": "5164796893975cc99282a85289820d79",
     "grade": true,
     "grade_id": "cell-0af4e645eb1156c0",
     "locked": true,
     "points": 3,
     "schema_version": 3,
     "solution": false,
     "task": false
    }
   },
   "outputs": [],
   "source": [
    "#Do not delete\n",
    "employees = [('Leo', 'Vernel', 38), ('Marjane', 'Nguyen', 23), ('Abigail', 'Deemle', 23)]\n",
    "assert make_banner(employees) == 'Abigail - Marjane - Leo'\n",
    "\n",
    "employees = [('Kendry', 'Michel', 44), ('Lilian', 'Genery', 36), ('Kim', 'Lecosta', 21), ('Arabelle', 'Rimey', 52)]\n",
    "assert make_banner(employees) == 'Kim - Lilian - Kendry - Arabelle'\n",
    "\n",
    "employees = [('Kendry', 'Michel', 23), ('Lilian', 'Genery', 23), ('Kim', 'Lecosta', 23), ('Arabelle', 'Rimey', 23)]\n",
    "assert make_banner(employees) == 'Arabelle - Kendry - Kim - Lilian'\n",
    "\n",
    "employees = []\n",
    "assert make_banner(employees) == ''\n",
    "\n",
    "employees = [('Kendry', 'Michel', 44)]\n",
    "assert make_banner(employees) == 'Kendry'\n"
   ]
  },
  {
   "cell_type": "markdown",
   "id": "fef22942",
   "metadata": {
    "deletable": false,
    "editable": false,
    "nbgrader": {
     "cell_type": "markdown",
     "checksum": "c45919dad8114777094112a2fa946822",
     "grade": false,
     "grade_id": "cell-b2e4e8aaa75b8b75",
     "locked": true,
     "schema_version": 3,
     "solution": false,
     "task": false
    }
   },
   "source": [
    "## Exercise 2 (3 points)\n",
    "The [collatz sequence](https://simple.wikipedia.org/wiki/Collatz_sequence)\n",
    "goes like this:\n",
    "\n",
    "- Start by any number greater than zero.\n",
    "- If your number is even, divide it by two.\n",
    "- If your number is odd, multiply by three and add one.\n",
    "\n",
    "For example, starting by `10` we have:\n",
    "\n",
    "   ```10 → 5 → 16 → 8 → 4 → 2 → 1```\n",
    "\n",
    "Write a function, named `collatz_length`, that given a number, returns\n",
    "the length of the sequence before reaching 1, for example:\n",
    "\n",
    "```python\n",
    ">>> collatz_length(10)\n",
    "6\n",
    "```\n",
    "\n",
    "Because it takes 6 steps (6 `→` in the previous example) to reach 1.\n",
    "\n"
   ]
  },
  {
   "cell_type": "code",
   "execution_count": 169,
   "id": "6e03e683",
   "metadata": {
    "deletable": false,
    "nbgrader": {
     "cell_type": "code",
     "checksum": "5874935c22f6cdd9dc07c5b7b125a332",
     "grade": false,
     "grade_id": "cell-4c907e986917720f",
     "locked": false,
     "schema_version": 3,
     "solution": true,
     "task": false
    }
   },
   "outputs": [],
   "source": [
    "#Do not delete\n",
    "def collatz_length(n: int) -> int:\n",
    "    \"\"\"\n",
    "    Calculates the numbers of steps in the collatz sequence\n",
    "    \n",
    "    #######\n",
    "    input: n (integer)\n",
    "    output: steps (integer)\n",
    "    #######\n",
    "    \"\"\"\n",
    "    # YOUR CODE HERE\n",
    "    count=0\n",
    "    while(n>1): \n",
    "        if (n % 2)==1:\n",
    "            n=(n*3)+1\n",
    "        else:\n",
    "            n=n/2\n",
    "        count=count+1\n",
    "    return count"
   ]
  },
  {
   "cell_type": "code",
   "execution_count": 170,
   "id": "533f568b",
   "metadata": {},
   "outputs": [
    {
     "name": "stdout",
     "output_type": "stream",
     "text": [
      "54\n"
     ]
    }
   ],
   "source": [
    "print(collatz_length(31328))"
   ]
  },
  {
   "cell_type": "code",
   "execution_count": 171,
   "id": "baeace8c",
   "metadata": {
    "deletable": false,
    "editable": false,
    "nbgrader": {
     "cell_type": "code",
     "checksum": "02d801d0c279e09e72fd0607b521cf1d",
     "grade": true,
     "grade_id": "cell-8cc20a4b16913931",
     "locked": true,
     "points": 3,
     "schema_version": 3,
     "solution": false,
     "task": false
    }
   },
   "outputs": [],
   "source": [
    "#Do not delete\n",
    "assert collatz_length(10) == 6\n",
    "assert collatz_length(5) == 5\n",
    "assert collatz_length(0) == 0\n",
    "assert collatz_length(2) == 1\n",
    "assert collatz_length(86) == 30\n",
    "assert collatz_length(-123) == 0"
   ]
  },
  {
   "cell_type": "markdown",
   "id": "f325b097",
   "metadata": {
    "deletable": false,
    "editable": false,
    "nbgrader": {
     "cell_type": "markdown",
     "checksum": "66c98a5ce3b48e2ed01e427ebe993975",
     "grade": false,
     "grade_id": "cell-84ce759e7d9870a3",
     "locked": true,
     "schema_version": 3,
     "solution": false,
     "task": false
    }
   },
   "source": [
    "## Exercise 3 (3 points)\n",
    "\n",
    "Write a function called `get_string_index` that returns the index of  the first string element inside an array of elements of different types. The string can hold any value.\n",
    "\n",
    "If there is no string element in the array, return `-1`. \n",
    "\n",
    "For example in the array `[1,2,'hello']` the string is at index `2`"
   ]
  },
  {
   "cell_type": "code",
   "execution_count": 172,
   "id": "50ede721",
   "metadata": {
    "deletable": false,
    "nbgrader": {
     "cell_type": "code",
     "checksum": "a7bb764d12225bd20d3da9aa45f0ed41",
     "grade": false,
     "grade_id": "cell-fc55a4974b2473be",
     "locked": false,
     "schema_version": 3,
     "solution": true,
     "task": false
    }
   },
   "outputs": [],
   "source": [
    "#Do not delete\n",
    "def get_string_index(my_list: list) -> int:\n",
    "    \"\"\"\n",
    "    Retruns the index of the first element of type string. \n",
    "    If no element are of type string inside the array returns -1\n",
    "    #######\n",
    "    input: my_list (list)\n",
    "    output: index (integer)\n",
    "    #######\n",
    "    \"\"\"\n",
    "    # YOUR CODE HERE\n",
    "    ind=0\n",
    "    for ele in my_list:\n",
    "        if isinstance(ele, str):\n",
    "            ind=my_list.index(ele)\n",
    "            return ind\n",
    "    return -1"
   ]
  },
  {
   "cell_type": "code",
   "execution_count": 173,
   "id": "1328cd28",
   "metadata": {},
   "outputs": [
    {
     "name": "stdout",
     "output_type": "stream",
     "text": [
      "2\n"
     ]
    }
   ],
   "source": [
    "print(get_string_index([1,2,'hello']))"
   ]
  },
  {
   "cell_type": "code",
   "execution_count": 174,
   "id": "7d6eda34",
   "metadata": {
    "deletable": false,
    "editable": false,
    "nbgrader": {
     "cell_type": "code",
     "checksum": "24eedcb5e34fe5a5366470fb94a13d69",
     "grade": true,
     "grade_id": "cell-bf5435a01491ca62",
     "locked": true,
     "points": 3,
     "schema_version": 3,
     "solution": false,
     "task": false
    }
   },
   "outputs": [],
   "source": [
    "#Do not delete\n",
    "assert get_string_index([1,2,'hello']) == 2\n",
    "assert get_string_index([1,2,'']) == 2\n",
    "assert get_string_index([1,2,'? *,']) == 2\n",
    "assert get_string_index([1,2,3,4,5,'a','d',1,2,3]) == 5\n",
    "assert get_string_index(['e',True,3,4,5,'a','d',[2,3]]) == 0\n",
    "assert get_string_index([False,True,3,4,5,6,2,[2,3]]) == -1\n",
    "assert get_string_index([]) == -1"
   ]
  },
  {
   "cell_type": "markdown",
   "id": "ee083f2b",
   "metadata": {
    "deletable": false,
    "editable": false,
    "nbgrader": {
     "cell_type": "markdown",
     "checksum": "491b5cecde507d14bf6c83b2667929d8",
     "grade": false,
     "grade_id": "cell-91766d11140cbfbe",
     "locked": true,
     "schema_version": 3,
     "solution": false,
     "task": false
    }
   },
   "source": [
    "## Exercise 4 (6 points)\n",
    "\n",
    "Write a simple function, named `is_anagram`, taking two strings, and returning a boolean value.\n",
    "\n",
    "The function shall return `True` if the letters of one word are a rearrangement of the letters of the other, `False` otherwise.\n",
    "\n",
    "Superfluous (or missing) spaces, quotes, dashes, ... are allowed: `funeral` is an anagram of `real fun`.\n",
    "\n",
    "Capitalized letter are equivalent to lower case letters: `Madam Curie` is an anagram of `Radium came`.\n",
    "\n",
    "Diactirics of any language are ignored: `crâné` is an anagram of `crane`.\n",
    "\n",
    "*hint: using the module unicodedata might be helpful*"
   ]
  },
  {
   "cell_type": "code",
   "execution_count": 204,
   "id": "fe337c39",
   "metadata": {
    "deletable": false,
    "nbgrader": {
     "cell_type": "code",
     "checksum": "f59d2e388564df84eaab4b2e5291ce6e",
     "grade": false,
     "grade_id": "cell-ecea43aafb0fd613",
     "locked": false,
     "schema_version": 3,
     "solution": true,
     "task": false
    }
   },
   "outputs": [],
   "source": [
    "#Do not delete\n",
    "def is_anagram(word1: str, word2: str) -> bool:\n",
    "    \"\"\"\n",
    "    Checks wheter two words are anagrams\n",
    "    #######\n",
    "    input: word1 (string), word2 (string)\n",
    "    output: anagram (boolean)\n",
    "    #######\n",
    "    \n",
    "    \"\"\"\n",
    "    # YOUR CODE HERE\n",
    "    import unidecode\n",
    "    temp1=''.join(filter(str.isalpha, word1)).upper()\n",
    "    temp2=''.join(filter(str.isalpha, word2)).upper()\n",
    "    word1=unidecode.unidecode(temp1)\n",
    "    word2=unidecode.unidecode(temp2)\n",
    "    if sorted(word1)==sorted(word2):\n",
    "        return True\n",
    "    else:\n",
    "        return False"
   ]
  },
  {
   "cell_type": "code",
   "execution_count": 205,
   "id": "b0b467ff",
   "metadata": {},
   "outputs": [
    {
     "name": "stdout",
     "output_type": "stream",
     "text": [
      "True\n"
     ]
    }
   ],
   "source": [
    "print(is_anagram(\"evil\", \"vile\"))"
   ]
  },
  {
   "cell_type": "code",
   "execution_count": 206,
   "id": "40783b87",
   "metadata": {
    "deletable": false,
    "editable": false,
    "nbgrader": {
     "cell_type": "code",
     "checksum": "5d97e27fbe7e3e97e10646f1ef906b30",
     "grade": true,
     "grade_id": "cell-709a485b40a691c3",
     "locked": true,
     "points": 1,
     "schema_version": 3,
     "solution": false,
     "task": false
    }
   },
   "outputs": [],
   "source": [
    "#Do not delete\n",
    "assert is_anagram(\"evil\", \"vile\") == True\n",
    "assert is_anagram(\"ab\", \"aba\") == False\n",
    "assert is_anagram(\"abba\", \"baba\") == True\n",
    "assert is_anagram(\"hello\", \"bye\") == False"
   ]
  },
  {
   "cell_type": "code",
   "execution_count": 207,
   "id": "0038890d",
   "metadata": {
    "deletable": false,
    "editable": false,
    "nbgrader": {
     "cell_type": "code",
     "checksum": "9c3e969cbad1da988a0d5da8e94b60ef",
     "grade": true,
     "grade_id": "cell-4dfb98cc0db28211",
     "locked": true,
     "points": 2,
     "schema_version": 3,
     "solution": false,
     "task": false
    }
   },
   "outputs": [],
   "source": [
    "#Do not delete\n",
    "assert is_anagram(\"Madam Curie\", \"Radium came\") == True\n",
    "assert is_anagram(\"funeral\", \"real fun\") == True\n",
    "assert is_anagram(\"manoir\", \"Romina\") == True"
   ]
  },
  {
   "cell_type": "code",
   "execution_count": 208,
   "id": "1f082412",
   "metadata": {
    "deletable": false,
    "editable": false,
    "nbgrader": {
     "cell_type": "code",
     "checksum": "76f3dc9278337a11c79df757ffb89838",
     "grade": true,
     "grade_id": "cell-1e847e9ebcdd64f1",
     "locked": true,
     "points": 3,
     "schema_version": 3,
     "solution": false,
     "task": false
    }
   },
   "outputs": [],
   "source": [
    "#Do not delete\n",
    "assert is_anagram(\"New York Times\", \"monkeys write\") == True\n",
    "assert is_anagram(\"McDonald's restaurants\", \"Uncle Sam's standard rot\") == True\n",
    "assert is_anagram(\"crane\", \"crâné\") == True\n",
    "assert is_anagram(\"àbba\", \"Baba!\") == True"
   ]
  },
  {
   "cell_type": "markdown",
   "id": "871ea08a",
   "metadata": {
    "deletable": false,
    "editable": false,
    "nbgrader": {
     "cell_type": "markdown",
     "checksum": "a9c7c614d1ac0489709b9d4516cd4f61",
     "grade": false,
     "grade_id": "cell-c7b32d57fd4d2f51",
     "locked": true,
     "schema_version": 3,
     "solution": false,
     "task": false
    }
   },
   "source": [
    "## Exercise 5 (5 points)\n",
    "In this exercise you should code a function `get_triple_number()` that takes an unordered list of integers. All integers are present once in the range 1 to n (n included), execpet one number that appears three times in the list. The function should return the value of that number appearing thrice.\n",
    "\n",
    "For example in the array `[1,6,3,7,2,5,4,2,2]` all numbers between 1 and 7 included appear once in the array, except the number 2 that appears three times.\n",
    "\n",
    "You can assume that the list will have a minimum size of three elements and only have numbers strictly bigger than 0.\n",
    "\n",
    "The function should run in O(n) (at worst).\n",
    "\n",
    "Having a function that works is worth 3 points and having a function that runs in O(n) is worth 2 points."
   ]
  },
  {
   "cell_type": "code",
   "execution_count": 186,
   "id": "ca4f35e3",
   "metadata": {
    "deletable": false,
    "nbgrader": {
     "cell_type": "code",
     "checksum": "48fbe28e7d55b9fce485145a137ea469",
     "grade": false,
     "grade_id": "cell-b4048dbe6b81c081",
     "locked": false,
     "schema_version": 3,
     "solution": true,
     "task": false
    }
   },
   "outputs": [],
   "source": [
    "#Do not delete\n",
    "def get_triple_number(numbers: list) -> int:\n",
    "    \"\"\"\n",
    "    Takes an unordered list of all integers in range 1 to n. \n",
    "    Finds the only element that appears three times in the list.\n",
    "    #######\n",
    "    input: numbers (list)\n",
    "    output: triple_number (int)\n",
    "    #######\n",
    "    \n",
    "    \"\"\"\n",
    "    # YOUR CODE HERE\n",
    "    for i in numbers:\n",
    "        if numbers.count(i)==3:\n",
    "            return i"
   ]
  },
  {
   "cell_type": "code",
   "execution_count": 187,
   "id": "0100d3fd",
   "metadata": {},
   "outputs": [
    {
     "name": "stdout",
     "output_type": "stream",
     "text": [
      "2\n"
     ]
    }
   ],
   "source": [
    "print(get_triple_number([1,6,3,7,2,5,4,2,2]))"
   ]
  },
  {
   "cell_type": "code",
   "execution_count": 188,
   "id": "ab42952b",
   "metadata": {
    "deletable": false,
    "editable": false,
    "nbgrader": {
     "cell_type": "code",
     "checksum": "d7ab1e9a5aa95ed9b881dbdc5f24e662",
     "grade": true,
     "grade_id": "cell-00a4f63b5f4297d6",
     "locked": true,
     "points": 3,
     "schema_version": 3,
     "solution": false,
     "task": false
    }
   },
   "outputs": [],
   "source": [
    "#Do not delete\n",
    "assert get_triple_number([1,6,3,7,2,5,4,2,2]) == 2\n",
    "assert get_triple_number([1,5,4,5,3,2,5]) == 5\n",
    "assert get_triple_number([7,8,5,3,2,4,8,1,6,8]) == 8\n",
    "assert get_triple_number([1,1,1]) == 1\n",
    "assert get_triple_number([2,2,1,2]) == 2\n"
   ]
  },
  {
   "cell_type": "code",
   "execution_count": 189,
   "id": "219a2e8d",
   "metadata": {
    "deletable": false,
    "editable": false,
    "nbgrader": {
     "cell_type": "code",
     "checksum": "d7e2be2193a5e5631a637e64e7b2a7d4",
     "grade": true,
     "grade_id": "cell-1da33cb027d5d00e",
     "locked": true,
     "points": 2,
     "schema_version": 3,
     "solution": false,
     "task": false
    }
   },
   "outputs": [
    {
     "name": "stdout",
     "output_type": "stream",
     "text": [
      "code runs in 0.27864813804626465 seconds\n",
      "Exception occurred: RunTimeTooSlow\n"
     ]
    }
   ],
   "source": [
    "#If this cells outputs an error or takes more than a second to execute \n",
    "#then it means your code is too slow...\n",
    "\n",
    "#Do not delete\n",
    "\n",
    "import random\n",
    "import time\n",
    "from statistics import median\n",
    "\n",
    "class RunTimeTooSlow(Exception):\n",
    "    \"Raised when the code is too slow\"\n",
    "    pass\n",
    "\n",
    "try:\n",
    "    n = random.randint(1, 10001)\n",
    "    l = [ i for i in range(1, 10001)] + [n] + [n]\n",
    "    times = []\n",
    "    for _ in range(25):\n",
    "        start = time.time()\n",
    "        get_triple_number(l)\n",
    "        stop = time.time()\n",
    "        random.shuffle(l)\n",
    "        times.append(stop-start)\n",
    "    print(\"code runs in {} seconds\".format(median(times)))\n",
    "    if median(times) > 0.01:\n",
    "        raise RunTimeTooSlow\n",
    "    else:\n",
    "        print(\"Code OK ! Runs in O(n) \")\n",
    "        \n",
    "except RunTimeTooSlow:\n",
    "    print(\"Exception occurred: RunTimeTooSlow\")"
   ]
  },
  {
   "cell_type": "code",
   "execution_count": null,
   "id": "aad7a348",
   "metadata": {},
   "outputs": [],
   "source": []
  }
 ],
 "metadata": {
  "kernelspec": {
   "display_name": "Python 3 (ipykernel)",
   "language": "python",
   "name": "python3"
  },
  "language_info": {
   "codemirror_mode": {
    "name": "ipython",
    "version": 3
   },
   "file_extension": ".py",
   "mimetype": "text/x-python",
   "name": "python",
   "nbconvert_exporter": "python",
   "pygments_lexer": "ipython3",
   "version": "3.10.6"
  }
 },
 "nbformat": 4,
 "nbformat_minor": 5
}
